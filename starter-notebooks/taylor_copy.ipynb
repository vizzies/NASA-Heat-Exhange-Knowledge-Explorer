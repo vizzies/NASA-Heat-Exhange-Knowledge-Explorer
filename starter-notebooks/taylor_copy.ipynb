{
 "cells": [
  {
   "cell_type": "markdown",
   "metadata": {},
   "source": [
    "# Welcome to GRC ML Hackathon Challenge A!\n",
    "\n",
    "This challenge is a collaborative effort to perform data science using a collection of publications.  During this challenge, we will focus on pin-fin heat exchangers. The approach used is nearly identical to an anlysis which involving the NASA Taxonomy and USAF SBIR. That notebook for that analysis has been graciously shared with us by Charles Liles (charles.a.liles@nasa.gov), and can be read here: https://visualization.larc.nasa.gov/dash/notebooks/SBIR_LDA.\n",
    "\n",
    "The data used for Challenge A is open source, and it was graciously provided by Karsten Look (karsten.look@nasa.gov).\n",
    "\n",
    "This notebook performs the same latent Dirichlet allocation (LDA) topic modeling on the heat exchanger dataset as in the previously posted example. Some participants will will leverage inexpensive Google Cloud Storage for hosting the data, while others may use Google CoLab (via Google Drive) or storage available on a local computer such as a laptop. If using Google Cloud Storage, you can skip directly to this section by clicking this link: <a href='#cloud_storage'>Cloud Storage Read/Write Demo'</a>. If using Google CoLab, you can skip directly to section... #TODO include section on reading data from Google CoLab. And running the notebook locally, you can reference #TODO include section for reading data locally.\n",
    "\n",
    "We will also perform t-SNE on vectorized heat exchanger data and interactive visualization using the Python bokeh library.  This link: <a href='#tsne_bokeh'>t-SNE and bokeh Visualization'</a> can be clicked to skip directly to this section of the notebook."
   ]
  },
  {
   "cell_type": "markdown",
   "metadata": {},
   "source": [
    "## Import Software Dependencies and Define Functions\n",
    "\n",
    "We will next import all Python libraries needed for model generation below.  We will also build a function to handle entity extraction from text, stopword removal, and snowball stemming.  Stop words are common word such as \"a\" and \"the\" which are not useful for NLP machine learning; you can read more about stop word removal here: https://en.wikipedia.org/wiki/Stop_words. Stemming is a means of transforming words to their root form. For example, the terms \"radiate\", \"radiates\", and \"radiation\" would all transform to a root form of \"radiat\" after stemming.  More information about Snowball stemming is available here: https://en.wikipedia.org/wiki/Snowball_(programming_language)."
   ]
  },
  {
   "cell_type": "code",
   "execution_count": 1,
   "metadata": {},
   "outputs": [
    {
     "name": "stderr",
     "output_type": "stream",
     "text": [
      "/opt/conda/lib/python3.7/site-packages/scipy/sparse/sparsetools.py:21: DeprecationWarning: `scipy.sparse.sparsetools` is deprecated!\n",
      "scipy.sparse.sparsetools is a private module for scipy.sparse, and should not be used.\n",
      "  _deprecated()\n",
      "/opt/conda/lib/python3.7/site-packages/nltk/decorators.py:68: DeprecationWarning: `formatargspec` is deprecated since Python 3.5. Use `signature` and the `Signature` object directly\n",
      "  regargs, varargs, varkwargs, defaults, formatvalue=lambda value: \"\"\n",
      "/opt/conda/lib/python3.7/site-packages/nltk/lm/counter.py:15: DeprecationWarning: Using or importing the ABCs from 'collections' instead of from 'collections.abc' is deprecated since Python 3.3,and in 3.9 it will stop working\n",
      "  from collections import Sequence, defaultdict\n",
      "/opt/conda/lib/python3.7/site-packages/nltk/lm/vocabulary.py:13: DeprecationWarning: Using or importing the ABCs from 'collections' instead of from 'collections.abc' is deprecated since Python 3.3,and in 3.9 it will stop working\n",
      "  from collections import Counter, Iterable\n"
     ]
    },
    {
     "data": {
      "text/html": [
       "\n",
       "    <div class=\"bk-root\">\n",
       "        <a href=\"https://bokeh.org\" target=\"_blank\" class=\"bk-logo bk-logo-small bk-logo-notebook\"></a>\n",
       "        <span id=\"1001\">Loading BokehJS ...</span>\n",
       "    </div>"
      ]
     },
     "metadata": {},
     "output_type": "display_data"
    },
    {
     "data": {
      "application/javascript": [
       "\n",
       "(function(root) {\n",
       "  function now() {\n",
       "    return new Date();\n",
       "  }\n",
       "\n",
       "  var force = true;\n",
       "\n",
       "  if (typeof root._bokeh_onload_callbacks === \"undefined\" || force === true) {\n",
       "    root._bokeh_onload_callbacks = [];\n",
       "    root._bokeh_is_loading = undefined;\n",
       "  }\n",
       "\n",
       "  var JS_MIME_TYPE = 'application/javascript';\n",
       "  var HTML_MIME_TYPE = 'text/html';\n",
       "  var EXEC_MIME_TYPE = 'application/vnd.bokehjs_exec.v0+json';\n",
       "  var CLASS_NAME = 'output_bokeh rendered_html';\n",
       "\n",
       "  /**\n",
       "   * Render data to the DOM node\n",
       "   */\n",
       "  function render(props, node) {\n",
       "    var script = document.createElement(\"script\");\n",
       "    node.appendChild(script);\n",
       "  }\n",
       "\n",
       "  /**\n",
       "   * Handle when an output is cleared or removed\n",
       "   */\n",
       "  function handleClearOutput(event, handle) {\n",
       "    var cell = handle.cell;\n",
       "\n",
       "    var id = cell.output_area._bokeh_element_id;\n",
       "    var server_id = cell.output_area._bokeh_server_id;\n",
       "    // Clean up Bokeh references\n",
       "    if (id != null && id in Bokeh.index) {\n",
       "      Bokeh.index[id].model.document.clear();\n",
       "      delete Bokeh.index[id];\n",
       "    }\n",
       "\n",
       "    if (server_id !== undefined) {\n",
       "      // Clean up Bokeh references\n",
       "      var cmd = \"from bokeh.io.state import curstate; print(curstate().uuid_to_server['\" + server_id + \"'].get_sessions()[0].document.roots[0]._id)\";\n",
       "      cell.notebook.kernel.execute(cmd, {\n",
       "        iopub: {\n",
       "          output: function(msg) {\n",
       "            var id = msg.content.text.trim();\n",
       "            if (id in Bokeh.index) {\n",
       "              Bokeh.index[id].model.document.clear();\n",
       "              delete Bokeh.index[id];\n",
       "            }\n",
       "          }\n",
       "        }\n",
       "      });\n",
       "      // Destroy server and session\n",
       "      var cmd = \"import bokeh.io.notebook as ion; ion.destroy_server('\" + server_id + \"')\";\n",
       "      cell.notebook.kernel.execute(cmd);\n",
       "    }\n",
       "  }\n",
       "\n",
       "  /**\n",
       "   * Handle when a new output is added\n",
       "   */\n",
       "  function handleAddOutput(event, handle) {\n",
       "    var output_area = handle.output_area;\n",
       "    var output = handle.output;\n",
       "\n",
       "    // limit handleAddOutput to display_data with EXEC_MIME_TYPE content only\n",
       "    if ((output.output_type != \"display_data\") || (!output.data.hasOwnProperty(EXEC_MIME_TYPE))) {\n",
       "      return\n",
       "    }\n",
       "\n",
       "    var toinsert = output_area.element.find(\".\" + CLASS_NAME.split(' ')[0]);\n",
       "\n",
       "    if (output.metadata[EXEC_MIME_TYPE][\"id\"] !== undefined) {\n",
       "      toinsert[toinsert.length - 1].firstChild.textContent = output.data[JS_MIME_TYPE];\n",
       "      // store reference to embed id on output_area\n",
       "      output_area._bokeh_element_id = output.metadata[EXEC_MIME_TYPE][\"id\"];\n",
       "    }\n",
       "    if (output.metadata[EXEC_MIME_TYPE][\"server_id\"] !== undefined) {\n",
       "      var bk_div = document.createElement(\"div\");\n",
       "      bk_div.innerHTML = output.data[HTML_MIME_TYPE];\n",
       "      var script_attrs = bk_div.children[0].attributes;\n",
       "      for (var i = 0; i < script_attrs.length; i++) {\n",
       "        toinsert[toinsert.length - 1].firstChild.setAttribute(script_attrs[i].name, script_attrs[i].value);\n",
       "        toinsert[toinsert.length - 1].firstChild.textContent = bk_div.children[0].textContent\n",
       "      }\n",
       "      // store reference to server id on output_area\n",
       "      output_area._bokeh_server_id = output.metadata[EXEC_MIME_TYPE][\"server_id\"];\n",
       "    }\n",
       "  }\n",
       "\n",
       "  function register_renderer(events, OutputArea) {\n",
       "\n",
       "    function append_mime(data, metadata, element) {\n",
       "      // create a DOM node to render to\n",
       "      var toinsert = this.create_output_subarea(\n",
       "        metadata,\n",
       "        CLASS_NAME,\n",
       "        EXEC_MIME_TYPE\n",
       "      );\n",
       "      this.keyboard_manager.register_events(toinsert);\n",
       "      // Render to node\n",
       "      var props = {data: data, metadata: metadata[EXEC_MIME_TYPE]};\n",
       "      render(props, toinsert[toinsert.length - 1]);\n",
       "      element.append(toinsert);\n",
       "      return toinsert\n",
       "    }\n",
       "\n",
       "    /* Handle when an output is cleared or removed */\n",
       "    events.on('clear_output.CodeCell', handleClearOutput);\n",
       "    events.on('delete.Cell', handleClearOutput);\n",
       "\n",
       "    /* Handle when a new output is added */\n",
       "    events.on('output_added.OutputArea', handleAddOutput);\n",
       "\n",
       "    /**\n",
       "     * Register the mime type and append_mime function with output_area\n",
       "     */\n",
       "    OutputArea.prototype.register_mime_type(EXEC_MIME_TYPE, append_mime, {\n",
       "      /* Is output safe? */\n",
       "      safe: true,\n",
       "      /* Index of renderer in `output_area.display_order` */\n",
       "      index: 0\n",
       "    });\n",
       "  }\n",
       "\n",
       "  // register the mime type if in Jupyter Notebook environment and previously unregistered\n",
       "  if (root.Jupyter !== undefined) {\n",
       "    var events = require('base/js/events');\n",
       "    var OutputArea = require('notebook/js/outputarea').OutputArea;\n",
       "\n",
       "    if (OutputArea.prototype.mime_types().indexOf(EXEC_MIME_TYPE) == -1) {\n",
       "      register_renderer(events, OutputArea);\n",
       "    }\n",
       "  }\n",
       "\n",
       "  \n",
       "  if (typeof (root._bokeh_timeout) === \"undefined\" || force === true) {\n",
       "    root._bokeh_timeout = Date.now() + 5000;\n",
       "    root._bokeh_failed_load = false;\n",
       "  }\n",
       "\n",
       "  var NB_LOAD_WARNING = {'data': {'text/html':\n",
       "     \"<div style='background-color: #fdd'>\\n\"+\n",
       "     \"<p>\\n\"+\n",
       "     \"BokehJS does not appear to have successfully loaded. If loading BokehJS from CDN, this \\n\"+\n",
       "     \"may be due to a slow or bad network connection. Possible fixes:\\n\"+\n",
       "     \"</p>\\n\"+\n",
       "     \"<ul>\\n\"+\n",
       "     \"<li>re-rerun `output_notebook()` to attempt to load from CDN again, or</li>\\n\"+\n",
       "     \"<li>use INLINE resources instead, as so:</li>\\n\"+\n",
       "     \"</ul>\\n\"+\n",
       "     \"<code>\\n\"+\n",
       "     \"from bokeh.resources import INLINE\\n\"+\n",
       "     \"output_notebook(resources=INLINE)\\n\"+\n",
       "     \"</code>\\n\"+\n",
       "     \"</div>\"}};\n",
       "\n",
       "  function display_loaded() {\n",
       "    var el = document.getElementById(\"1001\");\n",
       "    if (el != null) {\n",
       "      el.textContent = \"BokehJS is loading...\";\n",
       "    }\n",
       "    if (root.Bokeh !== undefined) {\n",
       "      if (el != null) {\n",
       "        el.textContent = \"BokehJS \" + root.Bokeh.version + \" successfully loaded.\";\n",
       "      }\n",
       "    } else if (Date.now() < root._bokeh_timeout) {\n",
       "      setTimeout(display_loaded, 100)\n",
       "    }\n",
       "  }\n",
       "\n",
       "\n",
       "  function run_callbacks() {\n",
       "    try {\n",
       "      root._bokeh_onload_callbacks.forEach(function(callback) {\n",
       "        if (callback != null)\n",
       "          callback();\n",
       "      });\n",
       "    } finally {\n",
       "      delete root._bokeh_onload_callbacks\n",
       "    }\n",
       "    console.debug(\"Bokeh: all callbacks have finished\");\n",
       "  }\n",
       "\n",
       "  function load_libs(css_urls, js_urls, callback) {\n",
       "    if (css_urls == null) css_urls = [];\n",
       "    if (js_urls == null) js_urls = [];\n",
       "\n",
       "    root._bokeh_onload_callbacks.push(callback);\n",
       "    if (root._bokeh_is_loading > 0) {\n",
       "      console.debug(\"Bokeh: BokehJS is being loaded, scheduling callback at\", now());\n",
       "      return null;\n",
       "    }\n",
       "    if (js_urls == null || js_urls.length === 0) {\n",
       "      run_callbacks();\n",
       "      return null;\n",
       "    }\n",
       "    console.debug(\"Bokeh: BokehJS not loaded, scheduling load and callback at\", now());\n",
       "    root._bokeh_is_loading = css_urls.length + js_urls.length;\n",
       "\n",
       "    function on_load() {\n",
       "      root._bokeh_is_loading--;\n",
       "      if (root._bokeh_is_loading === 0) {\n",
       "        console.debug(\"Bokeh: all BokehJS libraries/stylesheets loaded\");\n",
       "        run_callbacks()\n",
       "      }\n",
       "    }\n",
       "\n",
       "    function on_error() {\n",
       "      console.error(\"failed to load \" + url);\n",
       "    }\n",
       "\n",
       "    for (var i = 0; i < css_urls.length; i++) {\n",
       "      var url = css_urls[i];\n",
       "      const element = document.createElement(\"link\");\n",
       "      element.onload = on_load;\n",
       "      element.onerror = on_error;\n",
       "      element.rel = \"stylesheet\";\n",
       "      element.type = \"text/css\";\n",
       "      element.href = url;\n",
       "      console.debug(\"Bokeh: injecting link tag for BokehJS stylesheet: \", url);\n",
       "      document.body.appendChild(element);\n",
       "    }\n",
       "\n",
       "    const hashes = {\"https://cdn.bokeh.org/bokeh/release/bokeh-2.0.1.min.js\": \"JpP8FXbgAZLkfur7LiK3j9AGBhHNIvF742meBJrjO2ShJDhCG2I1uVvW+0DUtrmc\", \"https://cdn.bokeh.org/bokeh/release/bokeh-widgets-2.0.1.min.js\": \"xZlADit0Q04ISQEdKg2k3L4W9AwQBAuDs9nJL9fM/WwzL1tEU9VPNezOFX0nLEAz\", \"https://cdn.bokeh.org/bokeh/release/bokeh-tables-2.0.1.min.js\": \"4BuPRZkdMKSnj3zoxiNrQ86XgNw0rYmBOxe7nshquXwwcauupgBF2DHLVG1WuZlV\", \"https://cdn.bokeh.org/bokeh/release/bokeh-gl-2.0.1.min.js\": \"Dv1SQ87hmDqK6S5OhBf0bCuwAEvL5QYL0PuR/F1SPVhCS/r/abjkbpKDYL2zeM19\"};\n",
       "\n",
       "    for (var i = 0; i < js_urls.length; i++) {\n",
       "      var url = js_urls[i];\n",
       "      var element = document.createElement('script');\n",
       "      element.onload = on_load;\n",
       "      element.onerror = on_error;\n",
       "      element.async = false;\n",
       "      element.src = url;\n",
       "      if (url in hashes) {\n",
       "        element.crossOrigin = \"anonymous\";\n",
       "        element.integrity = \"sha384-\" + hashes[url];\n",
       "      }\n",
       "      console.debug(\"Bokeh: injecting script tag for BokehJS library: \", url);\n",
       "      document.head.appendChild(element);\n",
       "    }\n",
       "  };var element = document.getElementById(\"1001\");\n",
       "  if (element == null) {\n",
       "    console.error(\"Bokeh: ERROR: autoload.js configured with elementid '1001' but no matching script tag was found. \")\n",
       "    return false;\n",
       "  }\n",
       "\n",
       "  function inject_raw_css(css) {\n",
       "    const element = document.createElement(\"style\");\n",
       "    element.appendChild(document.createTextNode(css));\n",
       "    document.body.appendChild(element);\n",
       "  }\n",
       "\n",
       "  \n",
       "  var js_urls = [\"https://cdn.bokeh.org/bokeh/release/bokeh-2.0.1.min.js\", \"https://cdn.bokeh.org/bokeh/release/bokeh-widgets-2.0.1.min.js\", \"https://cdn.bokeh.org/bokeh/release/bokeh-tables-2.0.1.min.js\", \"https://cdn.bokeh.org/bokeh/release/bokeh-gl-2.0.1.min.js\"];\n",
       "  var css_urls = [];\n",
       "  \n",
       "\n",
       "  var inline_js = [\n",
       "    function(Bokeh) {\n",
       "      Bokeh.set_log_level(\"info\");\n",
       "    },\n",
       "    function(Bokeh) {\n",
       "    \n",
       "    \n",
       "    }\n",
       "  ];\n",
       "\n",
       "  function run_inline_js() {\n",
       "    \n",
       "    if (root.Bokeh !== undefined || force === true) {\n",
       "      \n",
       "    for (var i = 0; i < inline_js.length; i++) {\n",
       "      inline_js[i].call(root, root.Bokeh);\n",
       "    }\n",
       "    if (force === true) {\n",
       "        display_loaded();\n",
       "      }} else if (Date.now() < root._bokeh_timeout) {\n",
       "      setTimeout(run_inline_js, 100);\n",
       "    } else if (!root._bokeh_failed_load) {\n",
       "      console.log(\"Bokeh: BokehJS failed to load within specified timeout.\");\n",
       "      root._bokeh_failed_load = true;\n",
       "    } else if (force !== true) {\n",
       "      var cell = $(document.getElementById(\"1001\")).parents('.cell').data().cell;\n",
       "      cell.output_area.append_execute_result(NB_LOAD_WARNING)\n",
       "    }\n",
       "\n",
       "  }\n",
       "\n",
       "  if (root._bokeh_is_loading === 0) {\n",
       "    console.debug(\"Bokeh: BokehJS loaded, going straight to plotting\");\n",
       "    run_inline_js();\n",
       "  } else {\n",
       "    load_libs(css_urls, js_urls, function() {\n",
       "      console.debug(\"Bokeh: BokehJS plotting callback run at\", now());\n",
       "      run_inline_js();\n",
       "    });\n",
       "  }\n",
       "}(window));"
      ],
      "application/vnd.bokehjs_load.v0+json": "\n(function(root) {\n  function now() {\n    return new Date();\n  }\n\n  var force = true;\n\n  if (typeof root._bokeh_onload_callbacks === \"undefined\" || force === true) {\n    root._bokeh_onload_callbacks = [];\n    root._bokeh_is_loading = undefined;\n  }\n\n  \n\n  \n  if (typeof (root._bokeh_timeout) === \"undefined\" || force === true) {\n    root._bokeh_timeout = Date.now() + 5000;\n    root._bokeh_failed_load = false;\n  }\n\n  var NB_LOAD_WARNING = {'data': {'text/html':\n     \"<div style='background-color: #fdd'>\\n\"+\n     \"<p>\\n\"+\n     \"BokehJS does not appear to have successfully loaded. If loading BokehJS from CDN, this \\n\"+\n     \"may be due to a slow or bad network connection. Possible fixes:\\n\"+\n     \"</p>\\n\"+\n     \"<ul>\\n\"+\n     \"<li>re-rerun `output_notebook()` to attempt to load from CDN again, or</li>\\n\"+\n     \"<li>use INLINE resources instead, as so:</li>\\n\"+\n     \"</ul>\\n\"+\n     \"<code>\\n\"+\n     \"from bokeh.resources import INLINE\\n\"+\n     \"output_notebook(resources=INLINE)\\n\"+\n     \"</code>\\n\"+\n     \"</div>\"}};\n\n  function display_loaded() {\n    var el = document.getElementById(\"1001\");\n    if (el != null) {\n      el.textContent = \"BokehJS is loading...\";\n    }\n    if (root.Bokeh !== undefined) {\n      if (el != null) {\n        el.textContent = \"BokehJS \" + root.Bokeh.version + \" successfully loaded.\";\n      }\n    } else if (Date.now() < root._bokeh_timeout) {\n      setTimeout(display_loaded, 100)\n    }\n  }\n\n\n  function run_callbacks() {\n    try {\n      root._bokeh_onload_callbacks.forEach(function(callback) {\n        if (callback != null)\n          callback();\n      });\n    } finally {\n      delete root._bokeh_onload_callbacks\n    }\n    console.debug(\"Bokeh: all callbacks have finished\");\n  }\n\n  function load_libs(css_urls, js_urls, callback) {\n    if (css_urls == null) css_urls = [];\n    if (js_urls == null) js_urls = [];\n\n    root._bokeh_onload_callbacks.push(callback);\n    if (root._bokeh_is_loading > 0) {\n      console.debug(\"Bokeh: BokehJS is being loaded, scheduling callback at\", now());\n      return null;\n    }\n    if (js_urls == null || js_urls.length === 0) {\n      run_callbacks();\n      return null;\n    }\n    console.debug(\"Bokeh: BokehJS not loaded, scheduling load and callback at\", now());\n    root._bokeh_is_loading = css_urls.length + js_urls.length;\n\n    function on_load() {\n      root._bokeh_is_loading--;\n      if (root._bokeh_is_loading === 0) {\n        console.debug(\"Bokeh: all BokehJS libraries/stylesheets loaded\");\n        run_callbacks()\n      }\n    }\n\n    function on_error() {\n      console.error(\"failed to load \" + url);\n    }\n\n    for (var i = 0; i < css_urls.length; i++) {\n      var url = css_urls[i];\n      const element = document.createElement(\"link\");\n      element.onload = on_load;\n      element.onerror = on_error;\n      element.rel = \"stylesheet\";\n      element.type = \"text/css\";\n      element.href = url;\n      console.debug(\"Bokeh: injecting link tag for BokehJS stylesheet: \", url);\n      document.body.appendChild(element);\n    }\n\n    const hashes = {\"https://cdn.bokeh.org/bokeh/release/bokeh-2.0.1.min.js\": \"JpP8FXbgAZLkfur7LiK3j9AGBhHNIvF742meBJrjO2ShJDhCG2I1uVvW+0DUtrmc\", \"https://cdn.bokeh.org/bokeh/release/bokeh-widgets-2.0.1.min.js\": \"xZlADit0Q04ISQEdKg2k3L4W9AwQBAuDs9nJL9fM/WwzL1tEU9VPNezOFX0nLEAz\", \"https://cdn.bokeh.org/bokeh/release/bokeh-tables-2.0.1.min.js\": \"4BuPRZkdMKSnj3zoxiNrQ86XgNw0rYmBOxe7nshquXwwcauupgBF2DHLVG1WuZlV\", \"https://cdn.bokeh.org/bokeh/release/bokeh-gl-2.0.1.min.js\": \"Dv1SQ87hmDqK6S5OhBf0bCuwAEvL5QYL0PuR/F1SPVhCS/r/abjkbpKDYL2zeM19\"};\n\n    for (var i = 0; i < js_urls.length; i++) {\n      var url = js_urls[i];\n      var element = document.createElement('script');\n      element.onload = on_load;\n      element.onerror = on_error;\n      element.async = false;\n      element.src = url;\n      if (url in hashes) {\n        element.crossOrigin = \"anonymous\";\n        element.integrity = \"sha384-\" + hashes[url];\n      }\n      console.debug(\"Bokeh: injecting script tag for BokehJS library: \", url);\n      document.head.appendChild(element);\n    }\n  };var element = document.getElementById(\"1001\");\n  if (element == null) {\n    console.error(\"Bokeh: ERROR: autoload.js configured with elementid '1001' but no matching script tag was found. \")\n    return false;\n  }\n\n  function inject_raw_css(css) {\n    const element = document.createElement(\"style\");\n    element.appendChild(document.createTextNode(css));\n    document.body.appendChild(element);\n  }\n\n  \n  var js_urls = [\"https://cdn.bokeh.org/bokeh/release/bokeh-2.0.1.min.js\", \"https://cdn.bokeh.org/bokeh/release/bokeh-widgets-2.0.1.min.js\", \"https://cdn.bokeh.org/bokeh/release/bokeh-tables-2.0.1.min.js\", \"https://cdn.bokeh.org/bokeh/release/bokeh-gl-2.0.1.min.js\"];\n  var css_urls = [];\n  \n\n  var inline_js = [\n    function(Bokeh) {\n      Bokeh.set_log_level(\"info\");\n    },\n    function(Bokeh) {\n    \n    \n    }\n  ];\n\n  function run_inline_js() {\n    \n    if (root.Bokeh !== undefined || force === true) {\n      \n    for (var i = 0; i < inline_js.length; i++) {\n      inline_js[i].call(root, root.Bokeh);\n    }\n    if (force === true) {\n        display_loaded();\n      }} else if (Date.now() < root._bokeh_timeout) {\n      setTimeout(run_inline_js, 100);\n    } else if (!root._bokeh_failed_load) {\n      console.log(\"Bokeh: BokehJS failed to load within specified timeout.\");\n      root._bokeh_failed_load = true;\n    } else if (force !== true) {\n      var cell = $(document.getElementById(\"1001\")).parents('.cell').data().cell;\n      cell.output_area.append_execute_result(NB_LOAD_WARNING)\n    }\n\n  }\n\n  if (root._bokeh_is_loading === 0) {\n    console.debug(\"Bokeh: BokehJS loaded, going straight to plotting\");\n    run_inline_js();\n  } else {\n    load_libs(css_urls, js_urls, function() {\n      console.debug(\"Bokeh: BokehJS plotting callback run at\", now());\n      run_inline_js();\n    });\n  }\n}(window));"
     },
     "metadata": {},
     "output_type": "display_data"
    }
   ],
   "source": [
    "# Uncomment the below lines if these dependencies are not already installed\n",
    "# !pip install --upgrade scispacy\n",
    "# !pip install --upgrade spacy\n",
    "# !pip install --upgrade gensim\n",
    "# !pip install --upgrade pyLDAvis\n",
    "\n",
    "# Uncomment the below line if en_core_sci_sm is not loaded on your system.\n",
    "# !pip install --upgrade https://s3-us-west-2.amazonaws.com/ai2-s2-scispacy/releases/v0.2.4/en_core_sci_sm-0.2.4.tar.gz\n",
    "\n",
    "#uncomment if you need to read the data files from google cloud storage\n",
    "#from google.cloud import storage\n",
    "\n",
    "#uncomment if you need to read data in from Google Drive that's mounted to a CoLab notebook\n",
    "#from google.colab import drive\n",
    "\n",
    "import time\n",
    "import bokeh\n",
    "from sklearn.manifold import TSNE\n",
    "import pandas as pd\n",
    "import scispacy\n",
    "import spacy\n",
    "import string\n",
    "from spacy.lang.en import English\n",
    "from sklearn.feature_extraction.text import CountVectorizer\n",
    "from sklearn.decomposition import LatentDirichletAllocation\n",
    "import pyLDAvis\n",
    "import pyLDAvis.sklearn\n",
    "from gensim import similarities\n",
    "from sklearn.neighbors import NearestNeighbors\n",
    "from nltk.corpus import stopwords  \n",
    "from nltk.stem.snowball import SnowballStemmer\n",
    "from scipy.spatial.distance import jensenshannon\n",
    "import numpy as np\n",
    "from google.cloud import storage\n",
    "\n",
    "nlp = spacy.load('en_core_sci_sm')\n",
    "\n",
    "import nltk\n",
    "# Uncomment the below line if nltk's stopwords are not already on your system.\n",
    "#nltk.download('stopwords')\n",
    "stop_words = set(stopwords.words('english')) \n",
    "stemmer = SnowballStemmer('english')\n",
    "\n",
    "from bokeh.models import HoverTool, CustomJS, ColumnDataSource\n",
    "from bokeh.palettes import viridis, Viridis256, magma, Turbo256, linear_palette\n",
    "from bokeh.transform import factor_cmap\n",
    "from bokeh.plotting import figure, show, output_file\n",
    "from bokeh.io import output_notebook\n",
    "output_notebook()"
   ]
  },
  {
   "cell_type": "code",
   "execution_count": 2,
   "metadata": {},
   "outputs": [],
   "source": [
    "def get_entities(temp_article):\n",
    "    '''\n",
    "    A function for preprocessing an article's text.  Spacy's en_core_sci_sm library is used to identify scientfic domain terms. \n",
    "    Stopword removal and snowball stemming is then used to cleanup each of term.\n",
    "    Arg:\n",
    "        temp_article: the string input for preprocessing\n",
    "    Returns:\n",
    "        temp_entities: a list of preprocessed terms\n",
    "    '''\n",
    "    if len(temp_article) > nlp.max_length:\n",
    "        nlp.max_length = len(temp_article)\n",
    "    doc = nlp(temp_article)\n",
    "    temp_entities = []\n",
    "    for n in doc.ents:\n",
    "        temp_str = ''\n",
    "        for w in n:\n",
    "            if w not in stop_words:\n",
    "                if str(w).isalpha():\n",
    "                    temp_str += stemmer.stem(str(w)) + ' '\n",
    "                else:\n",
    "                    temp_str += str(w) + ' '\n",
    "        temp_entities.append(temp_str.strip())\n",
    "    return temp_entities"
   ]
  },
  {
   "cell_type": "markdown",
   "metadata": {},
   "source": [
    "We will now move forward with our preprocessing and LDA visualizations.  If you are already familiar with this work from the previous notebook, you can skip to t-SNE/visualization by following this link: <a href='#tsne_bokeh'>t-SNE and bokeh Visualization'</a>.\n",
    "\n",
    "The team has already cleaned up the PDF articles, with the formatted version saved to `Combined_Output.txt`. Artciles in the file are newline delimited."
   ]
  },
  {
   "cell_type": "markdown",
   "metadata": {},
   "source": [
    "# Reading the data\n",
    "For this challenge, there are threee different ways you can read the data.\n",
    "1. From GCP Cloud storage\n",
    "2. From Google Drive\n",
    "3. From your local harddrive.\n",
    "\n",
    "## From GCP Cloud storage\n",
    "To read from GCP Cloud storage, we'll use the bucket ID variable and `google.cloud.storage` to connect to the bucket, and download the file a a string. The method name `download_as_string` is a little misleading. What's returned is a bytes object, so we need to decode it using `decode(\"utf-8\")` to convert it to a Python string. All the articles are contained within a single string, so to go to a list of articles we use `split(\"\\n\")` to split the string using newline characters as the delimiter.\n",
    "\n",
    "To preview the data, we only show the first 500 characters for the first few articles. Be careful when printing the downloaded bytes object, string, and list within JupyterLab and on Google Cloud. Trying to print everything might result in warnings, errors, or the notebook locking up."
   ]
  },
  {
   "cell_type": "code",
   "execution_count": 4,
   "metadata": {},
   "outputs": [
    {
     "ename": "AttributeError",
     "evalue": "'NoneType' object has no attribute 'download_as_string'",
     "output_type": "error",
     "traceback": [
      "\u001b[0;31m---------------------------------------------------------------------------\u001b[0m",
      "\u001b[0;31mAttributeError\u001b[0m                            Traceback (most recent call last)",
      "\u001b[0;32m<ipython-input-4-76005746c1f2>\u001b[0m in \u001b[0;36m<module>\u001b[0;34m\u001b[0m\n\u001b[1;32m      3\u001b[0m \u001b[0mbucket\u001b[0m \u001b[0;34m=\u001b[0m \u001b[0mclient\u001b[0m\u001b[0;34m.\u001b[0m\u001b[0mget_bucket\u001b[0m\u001b[0;34m(\u001b[0m\u001b[0mBUCKET_ID\u001b[0m\u001b[0;34m)\u001b[0m\u001b[0;34m\u001b[0m\u001b[0;34m\u001b[0m\u001b[0m\n\u001b[1;32m      4\u001b[0m \u001b[0mblob\u001b[0m \u001b[0;34m=\u001b[0m \u001b[0mbucket\u001b[0m\u001b[0;34m.\u001b[0m\u001b[0mget_blob\u001b[0m\u001b[0;34m(\u001b[0m\u001b[0;34m\"challenge-ab/Combined_Output.txt\"\u001b[0m\u001b[0;34m)\u001b[0m\u001b[0;34m\u001b[0m\u001b[0;34m\u001b[0m\u001b[0m\n\u001b[0;32m----> 5\u001b[0;31m \u001b[0mdata\u001b[0m \u001b[0;34m=\u001b[0m \u001b[0mblob\u001b[0m\u001b[0;34m.\u001b[0m\u001b[0mdownload_as_string\u001b[0m\u001b[0;34m(\u001b[0m\u001b[0;34m)\u001b[0m\u001b[0;34m.\u001b[0m\u001b[0mdecode\u001b[0m\u001b[0;34m(\u001b[0m\u001b[0;34m\"utf-8\"\u001b[0m\u001b[0;34m)\u001b[0m\u001b[0;34m\u001b[0m\u001b[0;34m\u001b[0m\u001b[0m\n\u001b[0m\u001b[1;32m      6\u001b[0m \u001b[0mdata\u001b[0m \u001b[0;34m=\u001b[0m \u001b[0mdata\u001b[0m\u001b[0;34m.\u001b[0m\u001b[0msplit\u001b[0m\u001b[0;34m(\u001b[0m\u001b[0;34m\"\\n\"\u001b[0m\u001b[0;34m)\u001b[0m\u001b[0;34m\u001b[0m\u001b[0;34m\u001b[0m\u001b[0m\n\u001b[1;32m      7\u001b[0m \u001b[0mprint\u001b[0m\u001b[0;34m(\u001b[0m\u001b[0;34m\"\\n\\n\"\u001b[0m\u001b[0;34m.\u001b[0m\u001b[0mjoin\u001b[0m\u001b[0;34m(\u001b[0m\u001b[0;34m(\u001b[0m\u001b[0mdata\u001b[0m\u001b[0;34m[\u001b[0m\u001b[0;36m0\u001b[0m\u001b[0;34m]\u001b[0m\u001b[0;34m[\u001b[0m\u001b[0;34m:\u001b[0m\u001b[0;36m500\u001b[0m\u001b[0;34m]\u001b[0m\u001b[0;34m,\u001b[0m \u001b[0mdata\u001b[0m\u001b[0;34m[\u001b[0m\u001b[0;36m1\u001b[0m\u001b[0;34m]\u001b[0m\u001b[0;34m[\u001b[0m\u001b[0;34m:\u001b[0m\u001b[0;36m500\u001b[0m\u001b[0;34m]\u001b[0m\u001b[0;34m,\u001b[0m \u001b[0mdata\u001b[0m\u001b[0;34m[\u001b[0m\u001b[0;36m2\u001b[0m\u001b[0;34m]\u001b[0m\u001b[0;34m[\u001b[0m\u001b[0;34m:\u001b[0m\u001b[0;36m500\u001b[0m\u001b[0;34m]\u001b[0m\u001b[0;34m)\u001b[0m\u001b[0;34m)\u001b[0m\u001b[0;34m)\u001b[0m\u001b[0;34m\u001b[0m\u001b[0;34m\u001b[0m\u001b[0m\n",
      "\u001b[0;31mAttributeError\u001b[0m: 'NoneType' object has no attribute 'download_as_string'"
     ]
    }
   ],
   "source": [
    "BUCKET_ID=\"grc-ml-hackathon\"\n",
    "client = storage.Client()\n",
    "bucket = client.get_bucket(BUCKET_ID)\n",
    "blob = bucket.get_blob(\"challenge-ab/Combined_Output.txt\")\n",
    "data = blob.download_as_string().decode(\"utf-8\")\n",
    "data = data.split(\"\\n\")\n",
    "print(\"\\n\\n\".join((data[0][:500], data[1][:500], data[2][:500])))"
   ]
  },
  {
   "cell_type": "markdown",
   "metadata": {},
   "source": [
    "## From Google CoLab\n",
    "Before being able to follow these directions (https://colab.research.google.com/notebooks/io.ipynb#scrollTo=u22w3BFiOveA) for mounting, and reading data from Google drive, some manual setup required.\n",
    "\n",
    "1. Contact Calvin and give him your personal Google Account. The account will be used to grant you access to the data via Google Drive by sharing it with you.\n",
    "2. Log into Google Drive (drive.google.com) using your personal Google account, and navigate to the area titled \"Shared with me\". Once there, you'll be able to see the folder of data which Calvin shared. Right click on that folder and select the option titlted \"Add shortcut to Drive.\"\n",
    "3. While still logged into Google Drive, navigate to \"My Drive\" and confirm that the folder appears there. The icon should look have an arrow (very similar to shortcut icons on Windows).\n",
    "4. If succesful, you should able to follow the direction from the above URL.\n",
    "\n",
    "Below is an example of using the above instructions to read data into a Google Colab notebook from Google Drive.This might only work if you're running the notebook in Colab. If running from AI Platform Notebooks, refer to the section on reading data from Cloud Storage. If running locally, skip ahead to the section on reading data locally."
   ]
  },
  {
   "cell_type": "code",
   "execution_count": null,
   "metadata": {},
   "outputs": [],
   "source": [
    "with open(\"/content/drive/My Drive/Combined_Output.txt\", \"r\") as infile:\n",
    "    data = infile.readlines()\n",
    "    \n",
    "print(\"\\n\\n\".join((data[0][:500], data[1][:500], data[2][:500])))"
   ]
  },
  {
   "cell_type": "markdown",
   "metadata": {},
   "source": [
    "## From local harddrive\n",
    "\n",
    "If running JupyterLab on your own laptop or computer, twe can read the data directly from the locally harddrive. For this, we don't need to use third-party modules to read the file, and can use the Python's builtin `open` function or `Pathlib.open` for reading in the data. The example below shows how to read the data using `open`. Just remember to change the path to point to where the file is saved."
   ]
  },
  {
   "cell_type": "code",
   "execution_count": null,
   "metadata": {},
   "outputs": [],
   "source": [
    "with open(\"Combined_Output.txt\") as infile:\n",
    "    data = infile.readlines()\n",
    "\n",
    "print(\"\\n\\n\".join((data[0][:500], data[1][:500], data[2][:500])))"
   ]
  },
  {
   "cell_type": "markdown",
   "metadata": {},
   "source": [
    "## Fit Heat Exchanger Articleswith a Bag of Words Vectorizer\n",
    "\n",
    "We will set up a bag of words vectorizer below.  This is a means of representing an article or document via the number of word occurences within it.  We will then fit this vectorizer to our heat exchanger data. "
   ]
  },
  {
   "cell_type": "code",
   "execution_count": 6,
   "metadata": {},
   "outputs": [],
   "source": [
    "bow_vector = CountVectorizer(tokenizer=get_entities, min_df=2, max_df=5, ngram_range=(1,3))\n",
    "data_vectorized = bow_vector.fit_transform(data)"
   ]
  },
  {
   "cell_type": "markdown",
   "metadata": {},
   "source": [
    "## Define the LDA Model and Fit to the Vectorized Data\n",
    "\n",
    "We can now define our LDA model and fit it to our vectorized heat exchanger data.  LDA requires a user to pre-select the number of topic clusters to which the document corpus will be fit.  In this case, we will select 10 clusters for topic modeling."
   ]
  },
  {
   "cell_type": "code",
   "execution_count": 7,
   "metadata": {},
   "outputs": [],
   "source": [
    "cluster_count = 10\n",
    "\n",
    "# Build LDA Model\n",
    "lda_model = LatentDirichletAllocation(n_components=cluster_count,               # Number of topics\n",
    "                                      #doc_topic_prior=1.0,\n",
    "                                      max_iter=100,               # Max learning iterations\n",
    "                                      learning_method='online',   \n",
    "                                      random_state=100,          # Random state\n",
    "                                      batch_size=128,            # n docs in each learning iter\n",
    "                                      evaluate_every = -1,       # compute perplexity every n iters, default: Don't\n",
    "                                      n_jobs = -1,               # Use all available CPUs\n",
    "                                     )"
   ]
  },
  {
   "cell_type": "code",
   "execution_count": 8,
   "metadata": {},
   "outputs": [],
   "source": [
    "lda_output = lda_model.fit_transform(data_vectorized)"
   ]
  },
  {
   "cell_type": "markdown",
   "metadata": {},
   "source": [
    "## View Fitted Topics\n",
    "\n",
    "Now that we have fit our LDA model, let's interactively view the fitted model's in a 2D projection below.  A user can hover over topics on the left-hand side and see the top-30 most relevant terms for the topic on the right hand side.  Users can also click on words listed on the righthand side and see their usage throughout all of the fitted model clusters.\n",
    "\n",
    "The interactive user-interface below helps a user intuitively understand goodness of fit from the original document corpus."
   ]
  },
  {
   "cell_type": "code",
   "execution_count": 9,
   "metadata": {},
   "outputs": [
    {
     "data": {
      "text/html": [
       "\n",
       "<link rel=\"stylesheet\" type=\"text/css\" href=\"https://cdn.rawgit.com/bmabey/pyLDAvis/files/ldavis.v1.0.0.css\">\n",
       "\n",
       "\n",
       "<div id=\"ldavis_el67321399334707941927380108016\"></div>\n",
       "<script type=\"text/javascript\">\n",
       "\n",
       "var ldavis_el67321399334707941927380108016_data = {\"mdsDat\": {\"x\": [32.42095184326172, 0.648955225944519, 71.01968383789062, 3.7859814167022705, -42.666500091552734, -3.6216893196105957, -3.632401704788208, -36.58440017700195, 44.391380310058594, 40.235809326171875], \"y\": [8.115229606628418, 71.70709991455078, 9.971006393432617, 33.18513488769531, -9.22206974029541, -43.52651596069336, -4.171707630157471, 35.804412841796875, 50.61538314819336, -31.591665267944336], \"topics\": [1, 2, 3, 4, 5, 6, 7, 8, 9, 10], \"cluster\": [1, 1, 1, 1, 1, 1, 1, 1, 1, 1], \"Freq\": [10.460752876184934, 5.933764000356002, 12.104086786562029, 4.453716402628672, 12.515435320927045, 13.741124113466071, 8.308767816271606, 12.527998049387786, 9.328221780214209, 10.626132854001662]}, \"tinfo\": {\"Term\": [\"panel\", \"batteri\", \"cpf\", \"vapor column\", \"rtds\", \"smooth region\", \"perfor\", \"micro-pinfin array\", \"pin-fin specimen\", \"paraffin wax\", \"coupon\", \"jet array\", \"fals\", \"n-eicosane\", \"slice\", \"critic temperatur\", \"channel specimen\", \"kg/s/m2\", \"pin-fin experiment\", \"li-ion\", \"micrograv\", \"micro-pin-fin region\", \"nudh\", \"exit qualiti\", \"che\", \"liquid suppli\", \"fractal dimens\", \"-\", \"condens heat transfer\", \"heterogen\", \"paraffin wax\", \"rt-54\", \"spts\", \"sp-31\", \"heat densiti\", \"c. balaji\", \"rt-44\", \"s. bureerat\", \"rt-35hc\", \"function evalu\", \"mass transfer 117\", \"heat mass transfer 117\", \"vertic space\", \"circular inlin\", \"ashraf\", \"journal heat mass transfer 117\", \"moea\", \"input heat densiti\", \"n-eicosane\", \"pbil\", \"longitudin fin pitch\", \"design solut\", \"optim plate-fin\", \"pin-fin heat sink plate-fin heat\", \"critic spts\", \"volumetr fraction\", \"qpcm\", \"horizont vertic space\", \"plate-fin pin-fin heat sink\", \"tces\", \"optim pin-fin heat sink\", \"input heat flux\", \"plate-fin pin-fin\", \"junction temperatur\", \"surrog model\", \"conic pin fin\", \"kg/m2s kg/m2s\", \"microfin tube\", \"plain tube\", \"design problem\", \"enhanc tube\", \"pareto\", \"squar inlin\", \"condens heat transfer\", \"pinfin model\", \"slender\", \"pin-fin plate\", \"micrograv\", \"heat-transfer area\", \"temperatur plate\", \"aero-thermal perform\", \"tilt\", \"flow entri\", \"aero-thermal\", \"airoil heat exchang\", \"airoil\", \"heat sink pack\", \"rotat trail\", \"inclin angl\", \"hu\", \"cooler\", \"corioli effect\", \"edg cooler\", \"heat transfer properti\", \"bessel function\", \"heatsink\", \"busan\", \"aero-thermal characterist\", \"downstream cooler\", \"incept\", \"t.-m\", \"test chip\", \"corioli\", \"later direct\", \"nu1\", \"group 3\", \"corioli forc\", \"fals\", \"fals fals\", \"side surfac\", \"fals fals fals\", \"test channel\", \"pf30\", \"group 2\", \"heat-transfer rate\", \"true\", \"correct factor\", \"insul tip\", \"water side\", \"exchang smooth\", \"heat exchang smooth\", \"s/d geometri\", \"bello-ochende\", \"bare plate\", \"pin midlin\", \"element heat transfer\", \"analyt method\", \"measur heat-transfer coeffici\", \"counter-flow\", \"midlin heat transfer\", \"opt\", \"copper pin\", \"flow rate air\", \"construct theori\", \"razelo\", \"u-tube manomet\", \"wire coil\", \"fluid dynam characterist\", \"cylindr ellipt\", \"dynam characterist\", \"pin cross-section\", \"counter-flow heat exchang\", \"heat plot\", \"louver fin\", \"optimum paramet\", \"pretoria\", \"volum constraint\", \"heat mass transfer 119\", \"qmax\", \"pin profil\", \"air side\", \"cpf\", \"midlin\", \"solid line\", \"test section heater\", \"pin endwal heat transfer\", \"solid volum\", \"sst\", \"straight circular\", \"splash plate\", \"maxim heat transfer\", \"heater pin\", \"bejan number\", \"sa c.\", \"sa\", \"gas turbin airfoil\", \"inconel foil\", \"case case\", \"optimis\", \"optim microchannel\", \"correct factor\", \"-\", \"pin pin pin\", \"back surfac\", \"joshi intern journal\", \"joshi intern\", \"fin fin fin\", \"thermal test\", \"micropin\", \"boundari surfac\", \"critic temperatur\", \"micropin array\", \"grid generat packag\", \"enclosur\", \"convent microchannel\", \"obliqu fin\", \"unfin channel\", \"enhanc microchannel heat sink\", \"microchannel enhanc\", \"y.j\", \"properti studi\", \"oxi\", \"colburn j factor\", \"z0\", \"hosseinizadeh\", \"squar squar\", \"pressur drop microchannel\", \"temperatur sensor\", \"comparison experi\", \"vention\", \"flow fluid\", \"single-phase heat transfer techniqu\", \"orthogon\", \"z. wan\", \"fin number\", \"grid generat\", \"pcm-based\", \"width space\", \"pcm-based heat sink\", \"pcm percentag\", \"pin enhanc microgap\", \"channel clearanc\", \"anova\", \"energi convers manag\", \"sa c.\", \"sa\", \"orthogon array\", \"contribut ratio\", \"vemuri\", \"smooth region\", \"panel\", \"micro-pin-fin region\", \"liquid suppli\", \"fractal dimens\", \"fractal surfac\", \"dri spot\", \"heterogen\", \"vapor column\", \"micro-pin-fin unit region\", \"fractal structur\", \"heterogen surfac\", \"heterogen fractal surfac\", \"baselin design\", \"width smooth region\", \"film effect\", \"liner\", \"bubbl smooth region\", \"increas fractal dimens\", \"energi engin\", \"micro-pin-fin structur\", \"narrowest\", \"liquid suppli pathway\", \"combustor liner\", \"nucleat site densiti\", \"crisi\", \"hydrodynam instabl\", \"shell\", \"row 2\", \"fractal\", \"subcool condit\", \"jet diamet\", \"heat mass tran\", \"bubbl coalesc\", \"test piec\", \"cold side\", \"partit\", \"ppfs\", \"hot side\", \"sine\", \"rng model\", \"inspect\", \"psia\", \"brigg\", \"rtd5\", \"wang intern journal\", \"rtd3\", \"rtd2\", \"rtd4\", \"micro-device\", \"rtd7\", \"micro-pinfin array\", \"sinusoid pin fin\", \"condens heat flux\", \"integral-fin tube\", \"wang intern\", \"nusselt 's model\", \"rtd8\", \"mita intern\", \"nusselt 's model eq.\", \"mita intern journal\", \"rtds\", \"condens retent height\", \"rtd array\", \"rtd2 rtd3\", \"gmax\", \"rtd6\", \"fire\", \"retent height\", \"sinusoid fin\", \"sinusoid pin\", \"retent\", \"past\", \"structur microchannel\", \"condens retent\", \"condens film\", \"condens steam\", \"heater rtds\", \"pyrex substrat\", \"condens heat transfer\", \"slug flow\", \"t1\", \"plain surfac\", \"film evapor\", \"martinelli\", \"micro-pinfins\", \"laser power\", \"jet array\", \"perfor\", \"khoshvaght-aliabadi\", \"slice\", \"node node\", \"effus\", \"heat sink nanofluid\", \"heat sink modul\", \"discharg coeffici\", \"enhanc model\", \"origin design\", \"y2\", \"ppfhs\", \"case 1 case 2\", \"pin fin perfor\", \"d3\", \"nanofluid-cooled\", \"coolant flow heat transfer\", \"distanc node\", \"solut node\", \"wedg duct\", \"nanoparticl\", \"journal physic\", \"confer journal\", \"confer journal physic\", \"flow calcul\", \"beam\", \"interv valu\", \"bubbl dynam\", \"heat mass transf khoshvaght-aliabadi\", \"hydrotherm perform\", \"station\", \"base plate temperatur\", \"nuavg\", \"thermal scienc confer\", \"thermal scienc confer journal\", \"valu interv\", \"hydrotherm\", \"micro-pin\", \"materi scienc\", \"heat mass transfer 126\", \"mass transfer 126\", \"journal heat mass transfer 126\", \"cpf\", \"squar pin-fins\", \"rpm\", \"cfd-ace+\", \"fals\", \"psia\", \"kim intern journal\", \"kim intern\", \"case 2\", \"coupon\", \"friction factor augment\", \"dupui\", \"cormier\", \"nusselt number ratio\", \"m.-a\", \"m.-a k.-y\", \"rotat machineri\", \"jodoin\", \"cold spray\", \"extract flow\", \"buoyanc paramet\", \"pyramid\", \"corbeil\", \"spray cool\", \"obstacl\", \"pyramid pin fin\", \"pyramid fin\", \"ottawa\", \"rotat number\", \"cm2 cm2\", \"rectangular base\", \"guard heater\", \"sampl sampl\", \"cold spray addit manufactur\", \"substrat deposit\", \"fin sampl\", \"two-phase region\", \"u-shaped\", \"qel\", \"geometr ratio\", \"redh redh\", \"ligrani\", \"convect coeffici\", \"array sampl\", \"taguchi experiment design method\", \"squar base\", \"densiti fin\", \"protrus\", \"journal of turbomachineri\", \"surfac effici\", \"cubic pin\", \"friction factor ratio\", \"k.-y\", \"dimpl surfac\", \"smooth wall\", \"friction coeffici\", \"thermal perform factor\", \"pressur side\", \"annular flow\", \"spanwis space\", \"kim intern journal\", \"kim intern\", \"s/d=2.5\", \"rept\", \"heat-exchanger\", \"august\", \"februari\", \"recuper\", \"three-dimensional channel\", \"s/d=2\", \"htd\", \"pin-fin section\", \"rotat pinfin heat sink\", \"enhanc turbul heat transfer\", \"red heat transfer\", \"s/d=3\", \"aircraft heater\", \"andreini\", \"chann\", \"effect heat transfer pin\", \"novemb\", \"kg/s/m2 kg/s/m2\", \"type 1\", \"heat row\", \"journal heat fluid flow\", \"heat resist\", \"stanford univers\", \"stationari\", \"heat transfer cylindr pin\", \"core surfac\", \"optim dimpl\", \"descript experiment\", \"kg/s/m2\", \"channel turbul\", \"pareto-optimal solut\", \"naca\", \"heat block\", \"stagnat point heat transfer\", \"micro pin heat\", \"respons surfac\", \"mass flux kg/s/m2\", \"spanwis space\", \"pin s/d\", \"rotat pinfin\", \"mass heat transfer\", \"c/d\", \"pin reynold number\", \"nload\", \"heat transfer flow friction\", \"batteri\", \"pin-fin specimen\", \"channel specimen\", \"li-ion\", \"tube channel specimen\", \"temperatur batteri\", \"tube specimen\", \"pin-fin experiment\", \"helium flow\", \"redh experiment\", \"li-ion batteri\", \"hfe-7200\", \"lithium-ion\", \"maximum temperatur batteri\", \"air flow channel\", \"pinfin specimen\", \"s/d s/d s/d\", \"nudh\", \"wetted-wall area\", \"^2\", \"inlet air flow\", \"helium gas\", \"specimen heat\", \"inlet air flow temperatur\", \"mohammadian zhang\", \"constant width\", \"standard deviat temperatur field\", \"heat specimen\", \"mccarti\", \"nasp\", \"standard deviat temperatur\", \"pitch ratio\", \"olson\", \"specimen temperatur\", \"specimen experi\", \"che\", \"mohammadian\", \"exit qualiti\", \"redh turbul\", \"s/d s/d\", \"braze\", \"-\", \"discharg rate\", \"pf-5060\", \"turbul region\", \"pareto\"], \"Freq\": [141.0, 89.0, 107.0, 77.0, 81.0, 65.0, 54.0, 70.0, 58.0, 54.0, 59.0, 47.0, 46.0, 48.0, 39.0, 31.0, 40.0, 47.0, 40.0, 35.0, 27.0, 37.0, 36.0, 44.0, 41.0, 34.0, 33.0, 43.0, 47.0, 33.0, 52.52383079419266, 21.213803709287994, 19.647815649396566, 18.865507081350955, 15.733588889715637, 14.951181163325511, 14.168908741754402, 14.168713058424757, 14.168873733466329, 14.16897814028862, 14.168414217504655, 14.168344428361717, 13.385822662900338, 13.385821345499968, 12.603308679755004, 12.602773374615756, 11.03769297486371, 11.037349118904674, 45.479605477902545, 9.472235278865474, 9.472091764742652, 9.472148919957448, 8.689700023916005, 7.123987545816492, 7.123637882602309, 14.168373672859193, 6.341006325720314, 6.340975198708242, 18.8659143711584, 16.516914497664125, 18.082773071236875, 11.820339296734495, 12.603508863707015, 14.951697769244895, 19.64866011844095, 18.86583903592765, 19.648640027941912, 12.603298057378293, 14.951803711125324, 16.517232405521888, 13.386243476007984, 15.734547450390624, 13.38645329844746, 12.603894217331819, 17.526361129190654, 16.187664327596938, 12.830430050536691, 26.26516780768433, 11.486739956731162, 10.815144066856455, 8.126389780382295, 16.85948357771004, 7.456391586301624, 7.454524929933107, 7.4537801900581195, 6.782904848474945, 12.830620204786838, 12.829681868737833, 19.545350898684724, 11.486144334943027, 20.215279705378094, 14.844971445304122, 4.097161489784131, 12.829548187282786, 8.128305473976951, 18.204327187920725, 3.4256661738803103, 3.425527263088726, 3.4253592997209124, 10.80938158307492, 10.814895888571742, 6.7850850901441175, 20.890226243641937, 6.112152335568494, 8.799291199273814, 12.158843835230636, 18.875143751583742, 34.99775335490975, 19.547802293315097, 8.800022574677651, 10.815271813682052, 10.81469590857576, 11.487082893288132, 8.799922090145392, 12.155101218948014, 8.800060914592882, 8.800344919009701, 21.05018152845873, 9.758978459418886, 8.952391570965295, 8.952284839151158, 19.43660579646876, 17.824762036049037, 8.146043723295405, 8.14573734534505, 8.14556247739618, 7.339412454173537, 7.339544013298133, 7.339451240199653, 7.339354948048443, 15.40486408481294, 6.5331358673660604, 6.532849679579175, 5.726933986722145, 5.7267249576394335, 5.726715046031789, 5.726680392560227, 5.726429778219608, 5.726602951480206, 5.726417603981562, 5.7262755276292765, 5.726348750534323, 5.726196227084204, 5.7264113873534015, 23.469810320397627, 4.920499433424046, 4.920331663178077, 8.952744633243643, 9.759219331477167, 9.759392538746766, 12.985277199567935, 79.11872860401202, 12.178919874358378, 8.952716930396328, 8.952346429503637, 13.791467255707524, 12.985785279835104, 14.59728469081328, 8.14515313279502, 8.146231175404788, 9.759786540881361, 9.758891012450604, 16.211192425504727, 12.178023071432332, 12.177458369471063, 10.56554634097298, 11.371943442701433, 9.759076890786982, 11.372513442838084, 9.75948901787914, 12.178866219341984, 9.759083960215186, 8.952827269173914, 8.952460830081145, 10.965599399649745, 10.965570415550602, 17.02289736987408, 11.571123683750463, 11.570969377045808, 16.418446444437595, 27.321079963751824, 7.936366652340497, 10.965776873086737, 17.62978218410667, 6.724782461219861, 9.148006475284793, 5.512766626673287, 8.542143781445233, 2.4841742359170893, 2.4841798253799823, 2.4840553087977733, 4.907609094795928, 4.3013831437176595, 4.301715980638276, 4.301418452781362, 6.7240822538692235, 4.3015520995733105, 4.301636836624593, 1.8784837305876867, 1.8783294407589135, 1.878188403153561, 1.8783629063483192, 6.119252378463545, 3.6958292012531064, 5.5128201519572535, 5.513288305660245, 12.781961832563885, 12.781162576545155, 7.330463319732009, 4.301462892952222, 4.301674015331479, 6.118616948776075, 4.9071721011009295, 6.1187864235197775, 5.513632981410879, 5.513471355788358, 4.907217209714193, 4.907105580169281, 4.302024421514259, 65.0090551621452, 138.87466893413543, 36.60279520257237, 34.168715542126435, 32.54490803776841, 22.806293596104855, 20.370927105183977, 31.732759513448553, 73.92872165259544, 13.067369700429815, 12.255839546350636, 11.443997465982724, 11.443570547994986, 10.63253512004546, 10.632163025086856, 21.99555892401997, 21.18448705608023, 9.0094059606531, 9.00865152596247, 17.938275635159158, 8.197511088376237, 8.19795257693657, 8.197679905771786, 17.126557702751846, 7.385871295358437, 7.385680056828931, 7.385380211371757, 33.35969680057553, 6.574885164909968, 6.574564595042089, 13.066309594889411, 11.444151290955778, 23.61815717074718, 15.501772601241205, 13.879269141431559, 14.691421530431551, 13.067645697867773, 17.12598811486669, 11.4446619579222, 10.633267796007566, 11.444440967011651, 11.444362463922387, 10.638899757524383, 32.28054672852232, 29.8031943282667, 27.32664936237612, 25.675283368503536, 24.024545271904707, 23.199245579546808, 20.722231912688567, 20.722170791991203, 68.60563952828106, 14.94292285703935, 14.942698649310607, 14.117760032401996, 27.326863848843217, 12.466449319720388, 12.46662356128985, 12.466617691913154, 12.46637119618966, 12.46659909959504, 76.86077437356386, 11.640160100140076, 10.815456040141521, 10.81546350757745, 10.81551339885276, 10.815433883172066, 23.200427437138032, 9.989746898610903, 9.989612768874464, 20.72203202038566, 9.164138972031308, 19.897917826412694, 29.80427475193067, 19.07096967394408, 17.41936831519322, 19.896386913964093, 16.59428361578191, 19.071268559517954, 33.9312576869028, 16.594622344582334, 16.593932188081812, 19.896181390170295, 14.943071899040572, 17.42044180351694, 16.594290802657518, 14.118327113120197, 46.01594035944261, 52.687167921951755, 11.930894883343809, 37.1152573214487, 8.223670240467362, 24.527376477673474, 6.002556158630537, 17.11834744435039, 5.261518766603142, 8.966817216032707, 9.708048299621094, 8.966626891698516, 18.599606819852212, 3.77997835495817, 3.779676018850847, 3.7795689023756167, 3.7795955447980787, 3.779053184326406, 3.7789471522336653, 3.778891501557625, 16.3778979535602, 6.743658484318854, 7.4843140881942745, 6.743361946064913, 6.743384516688625, 6.741501250891877, 14.154498802176564, 6.742071364961279, 6.002534588490703, 3.0385721435241337, 9.707626836713713, 17.854691063909982, 8.966923624786517, 10.448512489998206, 6.002578470382305, 6.002182537292656, 5.260163414169452, 13.413078841443875, 16.376515846615877, 10.449113683328694, 17.858889720978567, 17.858595090724922, 16.37668626070119, 27.486381859212507, 9.707630939415973, 7.4822506709290675, 7.484816867661702, 11.190311755604846, 8.2214113450173, 8.225577218211486, 8.22554490281846, 7.48481946077469, 57.71866622116248, 20.376753300626028, 19.564707131331495, 18.75165292093655, 13.880630165705503, 11.446886574272304, 11.446471083409513, 21.185570205842755, 9.011525350076843, 9.010928460544967, 17.93979367325096, 17.12697160586014, 16.316259671091142, 7.387689355664541, 13.882835565811632, 6.57626327576302, 6.575896261536499, 6.575753577931021, 6.57559920624054, 26.868325397120902, 13.070942638577373, 5.764457291968085, 5.764352912008043, 5.764115316393132, 5.764255149966363, 5.76404790757991, 5.7638369451786, 4.9525933444052095, 4.952667731218758, 4.952768608587986, 16.317341330219083, 10.63491568215414, 27.679166278567585, 22.000499047434523, 12.258739532522915, 9.011852336829632, 9.011406721456403, 9.0103674981998, 26.865894381795105, 13.879753192484293, 10.634418240110055, 9.823637527678384, 12.256964982725789, 13.070241174829665, 13.068684265627137, 10.63514612958384, 13.882143982185148, 12.25966405847585, 11.44510400743938, 11.446789923674288, 13.070662644235078, 11.446401289579471, 11.446325466534304, 16.095334143668516, 15.331086159726603, 6.941463208126913, 6.941025289819747, 6.178209225508691, 10.754360660702025, 5.416451436822911, 17.62083262439143, 10.754622759823237, 9.991499607981972, 9.230213947169993, 4.65354902427784, 9.992952524178696, 13.806981875044745, 7.703830065142287, 3.8906899182126193, 3.890736140538324, 3.890709501898645, 13.042741062823666, 12.281521331219029, 7.7046944148770296, 7.704562378478318, 7.704579220967612, 14.569997571792323, 10.754615590863194, 18.383598452095654, 6.941933704304075, 6.941096623624543, 3.1280155099769797, 3.1279045205507914, 36.69098033656831, 9.230153120064818, 9.23035059800041, 14.567859951678022, 8.467414304556526, 9.230289417208953, 11.518560780151683, 13.044291806567834, 10.755615269491111, 18.383636485315908, 10.755820063388999, 9.230263438052017, 8.46610521825019, 9.99306317800871, 8.46740658431781, 8.467540116172561, 8.466276867195825, 88.84943301838722, 57.41669607276936, 39.35296667863667, 34.643844216669905, 24.429313014269724, 22.86078588055436, 18.93127863202436, 38.569893677664965, 17.353816974745268, 15.004473854732977, 13.433468108245842, 28.358816483017723, 11.862320584022962, 11.077351298693523, 11.077228091709122, 11.073093974706307, 22.073753084285975, 34.64254236489287, 10.286375601066815, 21.288350309832417, 9.506134632902175, 9.502916128444575, 9.50309124114137, 8.720631750036198, 18.14744265201267, 7.934994234231504, 7.934903652835105, 7.933427866898531, 7.93317725770864, 7.9318369801899085, 16.57626819196161, 20.503570129748105, 15.000385438413867, 14.998013542982523, 14.209384373493226, 35.428421712703134, 22.075349636790737, 36.214907540893584, 13.433080252822437, 28.35900722824218, 27.570013186294595, 31.480245118752784, 12.648245250814478, 13.433243094081206, 13.433425452238252, 15.788686260750728], \"Total\": [141.0, 89.0, 107.0, 77.0, 81.0, 65.0, 54.0, 70.0, 58.0, 54.0, 59.0, 47.0, 46.0, 48.0, 39.0, 31.0, 40.0, 47.0, 40.0, 35.0, 27.0, 37.0, 36.0, 44.0, 41.0, 34.0, 33.0, 43.0, 47.0, 33.0, 54.00296109780636, 21.903228425468114, 20.337214009436146, 19.554502421856466, 16.42300092389187, 15.639986630948554, 14.85743977662473, 14.857253312095736, 14.857434519242526, 14.857662152146325, 14.857234309137763, 14.857578570418873, 14.07435550593472, 14.07443897095842, 13.291610398712525, 13.291627229752251, 11.725999072959638, 11.72620603974846, 48.39484360630741, 10.160405872807425, 10.160254683020261, 10.160819393112103, 9.37745865650239, 7.811665309982352, 7.811888018946944, 15.598211305897888, 7.02853244553936, 7.029042915314093, 21.036638925844976, 18.417644826306645, 20.34291368534339, 13.334289963225432, 14.773764430630065, 17.950800958710847, 25.203679834134924, 24.50817936618752, 26.83278829498673, 14.879918396063886, 19.580295678623568, 23.156205454827212, 20.616886632411667, 36.81095662353386, 22.141074502084706, 47.928929835203924, 18.234100516637543, 16.8894448023506, 13.529905564553516, 27.72869284431066, 12.18648709474814, 11.514743300011112, 8.827842214622303, 18.372797692141393, 8.155502524108353, 8.15600078620514, 8.156475063177663, 7.484238488533427, 14.341735773367313, 14.342199712173239, 21.86678256274678, 12.993187916977924, 23.30671087928529, 17.169247846308703, 4.797018955772146, 15.119625458426905, 9.653105863993643, 21.91626770469534, 4.124992706828648, 4.124965167406497, 4.1250012488173065, 13.06857057705161, 13.080285557109633, 8.266989935376342, 25.580414161380137, 7.6188212740720385, 10.981481381346246, 15.277957642952774, 24.398538159738482, 46.81553242093637, 26.176523718618917, 11.122897404760366, 14.478918790322778, 15.55283685650719, 18.679987317129893, 11.919059557672252, 31.715375321027928, 17.672676633209264, 29.88079276587981, 22.499680863412678, 10.44479565241208, 9.638286253334245, 9.638246977033587, 20.935641885194055, 19.29637103268751, 8.831867922808325, 8.831664386804608, 8.831894853083341, 8.025063829493014, 8.025278758619864, 8.025189443744829, 8.02532872996301, 16.87361619181122, 7.218531137869572, 7.218578874244259, 6.411892711443355, 6.411932782780177, 6.41205546190955, 6.412188308919661, 6.411991590856192, 6.412223415825257, 6.412081790390161, 6.412143210230601, 6.412237409624681, 6.412101686511637, 6.412376187809449, 26.446350979722336, 5.605536692793264, 5.605394410741623, 10.310218120771784, 11.270405816860514, 11.270934844305131, 15.196940188143204, 107.230210262355, 14.348103313301037, 10.423576318887141, 10.4504162019892, 16.912922319132996, 16.054304783817045, 18.460472310788024, 9.572720250962227, 9.5946853211403, 12.019494859960362, 12.033339221592797, 22.981120865322808, 18.317430729179645, 18.31751448329571, 15.072003701848107, 17.398607569561868, 13.485763451281322, 18.37879002113953, 13.552441243778912, 29.88079276587981, 43.20894862366, 13.561084773422103, 12.08767745930232, 11.671509504852418, 11.671641527360226, 18.55638442387355, 13.040733310322603, 13.063283899022535, 18.628480193574475, 31.94526242006345, 9.427872366513682, 13.197531202702452, 21.52573188999614, 8.213663938334774, 11.506021714523014, 7.002074943448103, 10.899410308046853, 3.18951131250288, 3.1895795027810894, 3.189470735889583, 6.354603278501038, 5.678653582294461, 5.769849811048704, 5.789929764272042, 9.054814188284277, 5.814141777720532, 5.81851902412318, 2.583597690170528, 2.583718498857964, 2.5836132268915106, 2.5839330220893633, 8.448456607706692, 5.226982319758098, 7.813463867579395, 7.8422377244446, 20.49383462483001, 20.639291718502083, 11.95104144032924, 6.572941971256348, 6.573880828832516, 10.784886047611227, 8.762701544914274, 17.760699756920964, 18.317430729179645, 18.31751448329571, 12.079272312668785, 12.91991067411475, 18.093441098840042, 65.70169625900141, 141.21733047067306, 37.29244822326977, 34.85707433737156, 33.23371009540341, 23.493503482419356, 21.05846513210863, 33.247744689499356, 77.59461020802544, 13.753451269815228, 12.941396604430683, 12.129880333704035, 12.129760733365643, 11.318143445440352, 11.318001763541538, 23.422881669531165, 22.67679996088203, 9.69457157510954, 9.69468061694284, 19.386440047841536, 8.882676033310137, 8.883167967540956, 8.883037196900641, 18.574710099990153, 8.07104250051093, 8.071158119951491, 8.071380460000617, 36.73579333918097, 7.259797797652002, 7.2595204849667665, 14.565302266801122, 12.870816658740614, 28.11753644053277, 18.343451342316783, 16.382445971518393, 18.245808724423142, 17.388296907436345, 26.497148700723802, 15.112861142099105, 13.406266000549467, 15.835238048452137, 16.82767311276038, 22.52199770992167, 32.96619465103393, 30.48918028701964, 28.012445354043134, 26.361143470680986, 24.70974938743823, 23.884180666174796, 21.407166879885157, 21.40720303922423, 70.89241566402403, 15.627746632450547, 15.627655029588183, 14.801920805172704, 28.824043839695115, 13.15040496674618, 13.150627376201825, 13.150704517237426, 13.150528935839887, 13.150897936440277, 81.27797513225194, 12.324862149751395, 11.499379456425094, 11.499423695936207, 11.499502193499591, 11.499500072733396, 24.69067275184721, 10.673824286303136, 10.673924797792573, 22.189952829382744, 9.847910457131308, 21.393471148609343, 32.113091711972366, 20.5383393448181, 18.887260218493388, 22.147185457664218, 18.78278758074093, 22.104308835874377, 47.928929835203924, 19.66240458776663, 20.346723539623017, 27.652024885975784, 17.96172457049669, 25.154224687164508, 23.361913611387713, 18.020351616567343, 47.524460029001474, 54.957342186345564, 12.623148409221315, 39.44490614942278, 8.917969898402818, 26.84544616739124, 6.694709454505802, 19.22858672948613, 5.9531608314746665, 10.330942408465932, 11.185669819443483, 10.422031800328073, 21.641722153937476, 4.471323175803888, 4.471166182593073, 4.471337345288442, 4.471381128681951, 4.471468331400055, 4.471390431798445, 4.4715414239821305, 19.489649751318993, 8.041548075333962, 8.959456710907126, 8.218158871987644, 8.218608846320508, 8.221568032273623, 17.309875459573803, 8.247947801366289, 7.366460750899471, 3.7301234801920455, 11.994962918253817, 22.57128703835033, 11.18448505321286, 13.576523977217791, 7.477807115272863, 7.477389134022931, 6.559438853363094, 19.61439505974831, 25.998988250397296, 15.92209804000523, 41.488626679859195, 41.48841800195984, 37.55727109891148, 107.230210262355, 18.372963564381, 10.563162331110979, 10.611733626783131, 46.81553242093637, 22.52199770992167, 28.895866084143574, 28.895497714437465, 20.013641977849357, 59.19599956422595, 21.063257381009606, 20.251499306822343, 19.43981240746397, 14.568153177393304, 12.1327000048566, 12.132417759717647, 22.615855676088277, 9.696792255174936, 9.6970008361765, 19.453284924866267, 18.62711099395384, 17.81056807738934, 8.07292120371922, 15.309685782297437, 7.261261619639334, 7.2611266626684525, 7.26133426608706, 7.26118162823029, 29.71326326969377, 14.541750291884126, 6.449459246069007, 6.449344167063847, 6.449192394214117, 6.449389964331447, 6.449351465504411, 6.4492238348333615, 5.6372049749516115, 5.63729040425831, 5.637493642456022, 18.627565640901675, 12.106717449366085, 32.070823893747786, 25.93396831512796, 14.291385198256801, 10.437758464650356, 10.47977593591784, 10.480024000233092, 34.39364837966481, 16.99785906388342, 12.818040370028728, 12.12223180057006, 16.331209618596116, 18.333646245536784, 19.270611768619546, 14.520184561269593, 25.357969105766795, 19.870393269621406, 18.625683676417864, 20.140543507783978, 33.68849159230124, 28.895866084143574, 28.895497714437465, 17.59782721449953, 16.83509081298193, 7.631426253999384, 7.631831445193971, 6.868841211049067, 12.117810358733248, 6.105967571818857, 19.93012858264803, 12.271646887431771, 11.42414885764372, 10.59238082087072, 5.34343880319577, 11.48972822533956, 16.120598315995966, 9.066156930510981, 4.579940890017987, 4.58021725861363, 4.580241025013231, 15.357966996153099, 14.595574526262835, 9.179958269801228, 9.180566969324383, 9.200934649043568, 17.489948389031834, 12.973145790011696, 22.31682648536898, 8.438586259747774, 8.438009755171246, 3.817375632561749, 3.8174638342276634, 47.12600098325683, 11.538624376587755, 11.544064493764814, 19.023524249758147, 10.724361711562553, 12.350403254543526, 16.872459707056798, 20.19254482430979, 15.50542857524101, 33.68849159230124, 17.08736575766269, 14.622930822263186, 13.018024205548102, 27.254158370305, 15.457320044211743, 17.013674308765594, 17.841596402156608, 89.54290730638868, 58.11555312558752, 40.047016257417, 35.333578507909934, 25.120336270719736, 23.549589972940346, 19.62096914998136, 40.044824499465555, 18.04842048846848, 15.692848959255947, 14.121681797258955, 29.86090760532413, 12.550549945037833, 11.764905849960728, 11.764931986874299, 11.76377245315683, 23.526823330533823, 36.95727371978845, 10.978123062694316, 22.74094436677194, 10.193614372756564, 10.192420927592856, 10.19300438583967, 9.408007131738545, 19.647571246936543, 8.622364972880625, 8.622386799135455, 8.621975755149482, 8.622029658083537, 8.621919648104761, 18.076251963408914, 22.674650100183463, 16.5035814911845, 16.517115593899746, 15.730767064780157, 41.50871678017513, 25.227033451833115, 44.87725699768109, 14.933810456322796, 36.24716159188511, 35.25896768997933, 43.20894862366, 14.11924760798739, 15.745265243224818, 15.753818617396805, 36.81095662353386], \"Category\": [\"Default\", \"Default\", \"Default\", \"Default\", \"Default\", \"Default\", \"Default\", \"Default\", \"Default\", \"Default\", \"Default\", \"Default\", \"Default\", \"Default\", \"Default\", \"Default\", \"Default\", \"Default\", \"Default\", \"Default\", \"Default\", \"Default\", \"Default\", \"Default\", \"Default\", \"Default\", \"Default\", \"Default\", \"Default\", \"Default\", \"Topic1\", \"Topic1\", \"Topic1\", \"Topic1\", \"Topic1\", \"Topic1\", \"Topic1\", \"Topic1\", \"Topic1\", \"Topic1\", \"Topic1\", \"Topic1\", \"Topic1\", \"Topic1\", \"Topic1\", \"Topic1\", \"Topic1\", \"Topic1\", \"Topic1\", \"Topic1\", \"Topic1\", \"Topic1\", \"Topic1\", \"Topic1\", \"Topic1\", \"Topic1\", \"Topic1\", \"Topic1\", \"Topic1\", \"Topic1\", \"Topic1\", \"Topic1\", \"Topic1\", \"Topic1\", \"Topic1\", \"Topic1\", \"Topic1\", \"Topic1\", \"Topic1\", \"Topic1\", \"Topic1\", \"Topic1\", \"Topic1\", \"Topic1\", \"Topic2\", \"Topic2\", \"Topic2\", \"Topic2\", \"Topic2\", \"Topic2\", \"Topic2\", \"Topic2\", \"Topic2\", \"Topic2\", \"Topic2\", \"Topic2\", \"Topic2\", \"Topic2\", \"Topic2\", \"Topic2\", \"Topic2\", \"Topic2\", \"Topic2\", \"Topic2\", \"Topic2\", \"Topic2\", \"Topic2\", \"Topic2\", \"Topic2\", \"Topic2\", \"Topic2\", \"Topic2\", \"Topic2\", \"Topic2\", \"Topic2\", \"Topic2\", \"Topic2\", \"Topic2\", \"Topic2\", \"Topic2\", \"Topic2\", \"Topic2\", \"Topic2\", \"Topic2\", \"Topic2\", \"Topic2\", \"Topic2\", \"Topic3\", \"Topic3\", \"Topic3\", \"Topic3\", \"Topic3\", \"Topic3\", \"Topic3\", \"Topic3\", \"Topic3\", \"Topic3\", \"Topic3\", \"Topic3\", \"Topic3\", \"Topic3\", \"Topic3\", \"Topic3\", \"Topic3\", \"Topic3\", \"Topic3\", \"Topic3\", \"Topic3\", \"Topic3\", \"Topic3\", \"Topic3\", \"Topic3\", \"Topic3\", \"Topic3\", \"Topic3\", \"Topic3\", \"Topic3\", \"Topic3\", \"Topic3\", \"Topic3\", \"Topic3\", \"Topic3\", \"Topic3\", \"Topic3\", \"Topic3\", \"Topic3\", \"Topic3\", \"Topic3\", \"Topic3\", \"Topic3\", \"Topic3\", \"Topic3\", \"Topic3\", \"Topic3\", \"Topic3\", \"Topic3\", \"Topic3\", \"Topic3\", \"Topic3\", \"Topic3\", \"Topic3\", \"Topic3\", \"Topic3\", \"Topic3\", \"Topic4\", \"Topic4\", \"Topic4\", \"Topic4\", \"Topic4\", \"Topic4\", \"Topic4\", \"Topic4\", \"Topic4\", \"Topic4\", \"Topic4\", \"Topic4\", \"Topic4\", \"Topic4\", \"Topic4\", \"Topic4\", \"Topic4\", \"Topic4\", \"Topic4\", \"Topic4\", \"Topic4\", \"Topic4\", \"Topic4\", \"Topic4\", \"Topic4\", \"Topic4\", \"Topic4\", \"Topic4\", \"Topic4\", \"Topic4\", \"Topic4\", \"Topic4\", \"Topic4\", \"Topic4\", \"Topic4\", \"Topic4\", \"Topic4\", \"Topic4\", \"Topic4\", \"Topic4\", \"Topic4\", \"Topic4\", \"Topic4\", \"Topic4\", \"Topic4\", \"Topic5\", \"Topic5\", \"Topic5\", \"Topic5\", \"Topic5\", \"Topic5\", \"Topic5\", \"Topic5\", \"Topic5\", \"Topic5\", \"Topic5\", \"Topic5\", \"Topic5\", \"Topic5\", \"Topic5\", \"Topic5\", \"Topic5\", \"Topic5\", \"Topic5\", \"Topic5\", \"Topic5\", \"Topic5\", \"Topic5\", \"Topic5\", \"Topic5\", \"Topic5\", \"Topic5\", \"Topic5\", \"Topic5\", \"Topic5\", \"Topic5\", \"Topic5\", \"Topic5\", \"Topic5\", \"Topic5\", \"Topic5\", \"Topic5\", \"Topic5\", \"Topic5\", \"Topic5\", \"Topic5\", \"Topic5\", \"Topic5\", \"Topic6\", \"Topic6\", \"Topic6\", \"Topic6\", \"Topic6\", \"Topic6\", \"Topic6\", \"Topic6\", \"Topic6\", \"Topic6\", \"Topic6\", \"Topic6\", \"Topic6\", \"Topic6\", \"Topic6\", \"Topic6\", \"Topic6\", \"Topic6\", \"Topic6\", \"Topic6\", \"Topic6\", \"Topic6\", \"Topic6\", \"Topic6\", \"Topic6\", \"Topic6\", \"Topic6\", \"Topic6\", \"Topic6\", \"Topic6\", \"Topic6\", \"Topic6\", \"Topic6\", \"Topic6\", \"Topic6\", \"Topic6\", \"Topic6\", \"Topic6\", \"Topic6\", \"Topic6\", \"Topic6\", \"Topic6\", \"Topic6\", \"Topic6\", \"Topic7\", \"Topic7\", \"Topic7\", \"Topic7\", \"Topic7\", \"Topic7\", \"Topic7\", \"Topic7\", \"Topic7\", \"Topic7\", \"Topic7\", \"Topic7\", \"Topic7\", \"Topic7\", \"Topic7\", \"Topic7\", \"Topic7\", \"Topic7\", \"Topic7\", \"Topic7\", \"Topic7\", \"Topic7\", \"Topic7\", \"Topic7\", \"Topic7\", \"Topic7\", \"Topic7\", \"Topic7\", \"Topic7\", \"Topic7\", \"Topic7\", \"Topic7\", \"Topic7\", \"Topic7\", \"Topic7\", \"Topic7\", \"Topic7\", \"Topic7\", \"Topic7\", \"Topic7\", \"Topic7\", \"Topic7\", \"Topic7\", \"Topic7\", \"Topic7\", \"Topic7\", \"Topic7\", \"Topic7\", \"Topic7\", \"Topic7\", \"Topic7\", \"Topic7\", \"Topic8\", \"Topic8\", \"Topic8\", \"Topic8\", \"Topic8\", \"Topic8\", \"Topic8\", \"Topic8\", \"Topic8\", \"Topic8\", \"Topic8\", \"Topic8\", \"Topic8\", \"Topic8\", \"Topic8\", \"Topic8\", \"Topic8\", \"Topic8\", \"Topic8\", \"Topic8\", \"Topic8\", \"Topic8\", \"Topic8\", \"Topic8\", \"Topic8\", \"Topic8\", \"Topic8\", \"Topic8\", \"Topic8\", \"Topic8\", \"Topic8\", \"Topic8\", \"Topic8\", \"Topic8\", \"Topic8\", \"Topic8\", \"Topic8\", \"Topic8\", \"Topic8\", \"Topic8\", \"Topic8\", \"Topic8\", \"Topic8\", \"Topic8\", \"Topic8\", \"Topic8\", \"Topic8\", \"Topic8\", \"Topic8\", \"Topic8\", \"Topic8\", \"Topic8\", \"Topic8\", \"Topic9\", \"Topic9\", \"Topic9\", \"Topic9\", \"Topic9\", \"Topic9\", \"Topic9\", \"Topic9\", \"Topic9\", \"Topic9\", \"Topic9\", \"Topic9\", \"Topic9\", \"Topic9\", \"Topic9\", \"Topic9\", \"Topic9\", \"Topic9\", \"Topic9\", \"Topic9\", \"Topic9\", \"Topic9\", \"Topic9\", \"Topic9\", \"Topic9\", \"Topic9\", \"Topic9\", \"Topic9\", \"Topic9\", \"Topic9\", \"Topic9\", \"Topic9\", \"Topic9\", \"Topic9\", \"Topic9\", \"Topic9\", \"Topic9\", \"Topic9\", \"Topic9\", \"Topic9\", \"Topic9\", \"Topic9\", \"Topic9\", \"Topic9\", \"Topic9\", \"Topic9\", \"Topic9\", \"Topic10\", \"Topic10\", \"Topic10\", \"Topic10\", \"Topic10\", \"Topic10\", \"Topic10\", \"Topic10\", \"Topic10\", \"Topic10\", \"Topic10\", \"Topic10\", \"Topic10\", \"Topic10\", \"Topic10\", \"Topic10\", \"Topic10\", \"Topic10\", \"Topic10\", \"Topic10\", \"Topic10\", \"Topic10\", \"Topic10\", \"Topic10\", \"Topic10\", \"Topic10\", \"Topic10\", \"Topic10\", \"Topic10\", \"Topic10\", \"Topic10\", \"Topic10\", \"Topic10\", \"Topic10\", \"Topic10\", \"Topic10\", \"Topic10\", \"Topic10\", \"Topic10\", \"Topic10\", \"Topic10\", \"Topic10\", \"Topic10\", \"Topic10\", \"Topic10\", \"Topic10\"], \"logprob\": [30.0, 29.0, 28.0, 27.0, 26.0, 25.0, 24.0, 23.0, 22.0, 21.0, 20.0, 19.0, 18.0, 17.0, 16.0, 15.0, 14.0, 13.0, 12.0, 11.0, 10.0, 9.0, 8.0, 7.0, 6.0, 5.0, 4.0, 3.0, 2.0, 1.0, -5.2485, -6.1551, -6.2318, -6.2724, -6.4539, -6.5049, -6.5587, -6.5587, -6.5587, -6.5587, -6.5587, -6.5587, -6.6155, -6.6155, -6.6758, -6.6758, -6.8084, -6.8085, -5.3925, -6.9614, -6.9614, -6.9614, -7.0476, -7.2463, -7.2463, -6.5587, -7.3627, -7.3627, -6.2724, -6.4054, -6.3148, -6.7399, -6.6758, -6.5049, -6.2317, -6.2724, -6.2317, -6.6758, -6.5049, -6.4053, -6.6155, -6.4539, -6.6155, -6.6757, -5.7791, -5.8585, -6.0909, -5.3745, -6.2016, -6.2618, -6.5477, -5.8179, -6.6337, -6.6339, -6.634, -6.7284, -6.0909, -6.091, -5.67, -6.2016, -5.6363, -5.9451, -7.2325, -6.091, -6.5474, -5.7411, -7.4115, -7.4115, -7.4116, -6.2624, -6.2618, -6.728, -5.6035, -6.8325, -6.4681, -6.1447, -5.7049, -5.0875, -5.6699, -6.468, -6.2618, -6.2619, -6.2015, -6.468, -6.145, -6.468, -6.468, -6.3087, -7.0775, -7.1637, -7.1637, -6.3885, -6.4751, -7.2581, -7.2582, -7.2582, -7.3624, -7.3624, -7.3624, -7.3624, -6.621, -7.4788, -7.4788, -7.6105, -7.6105, -7.6105, -7.6105, -7.6106, -7.6105, -7.6106, -7.6106, -7.6106, -7.6106, -7.6106, -6.1999, -7.7622, -7.7623, -7.1637, -7.0774, -7.0774, -6.7918, -4.9847, -6.8559, -7.1637, -7.1637, -6.7316, -6.7918, -6.6748, -7.2582, -7.2581, -7.0774, -7.0775, -6.57, -6.856, -6.8561, -6.9981, -6.9245, -7.0775, -6.9245, -7.0774, -6.856, -7.0775, -7.1637, -7.1637, -5.9611, -5.9611, -5.5213, -5.9073, -5.9073, -5.5574, -5.0482, -6.2844, -5.9611, -5.4863, -6.45, -6.1423, -6.6488, -6.2108, -7.4459, -7.4459, -7.446, -6.7651, -6.8969, -6.8968, -6.8969, -6.4502, -6.8969, -6.8969, -7.7254, -7.7255, -7.7255, -7.7254, -6.5444, -7.0486, -6.6488, -6.6487, -5.8078, -5.8079, -6.3638, -6.8969, -6.8968, -6.5445, -6.7652, -6.5445, -6.6486, -6.6487, -6.7651, -6.7652, -6.8968, -5.2145, -4.4555, -5.7889, -5.8578, -5.9065, -6.262, -6.375, -5.9317, -5.086, -6.819, -6.8831, -6.9516, -6.9516, -7.0252, -7.0252, -6.2982, -6.3358, -7.1908, -7.1909, -6.5021, -7.2852, -7.2852, -7.2852, -6.5484, -7.3895, -7.3895, -7.3896, -5.8817, -7.5058, -7.5059, -6.819, -6.9516, -6.2271, -6.6481, -6.7587, -6.7018, -6.8189, -6.5485, -6.9515, -7.0251, -6.9516, -6.9516, -7.0246, -6.008, -6.0879, -6.1746, -6.237, -6.3034, -6.3384, -6.4513, -6.4513, -5.2541, -6.7783, -6.7783, -6.8351, -6.1746, -6.9595, -6.9594, -6.9594, -6.9595, -6.9594, -5.1405, -7.028, -7.1015, -7.1015, -7.1015, -7.1015, -6.3383, -7.1809, -7.181, -6.4513, -7.2672, -6.4919, -6.0879, -6.5343, -6.6249, -6.492, -6.6734, -6.5343, -5.9582, -6.6734, -6.6735, -6.492, -6.7783, -6.6249, -6.6734, -6.835, -5.1504, -5.015, -6.5003, -5.3654, -6.8724, -5.7796, -7.1872, -6.1393, -7.319, -6.7859, -6.7065, -6.7859, -6.0563, -7.6497, -7.6498, -7.6498, -7.6498, -7.6499, -7.65, -7.65, -6.1835, -7.0708, -6.9666, -7.0709, -7.0709, -7.0711, -6.3294, -7.0711, -7.1872, -7.868, -6.7065, -6.0972, -6.7859, -6.633, -7.1872, -7.1873, -7.3193, -6.3832, -6.1836, -6.6329, -6.0969, -6.0969, -6.1836, -5.6657, -6.7065, -6.9669, -6.9665, -6.5644, -6.8727, -6.8722, -6.8722, -6.9665, -5.3345, -6.3757, -6.4163, -6.4588, -6.7596, -6.9524, -6.9524, -6.3368, -7.1916, -7.1916, -6.5031, -6.5494, -6.5979, -7.3903, -6.7594, -7.5066, -7.5067, -7.5067, -7.5067, -6.0991, -6.8197, -7.6384, -7.6384, -7.6384, -7.6384, -7.6384, -7.6385, -7.7902, -7.7901, -7.7901, -6.5978, -7.0259, -6.0694, -6.299, -6.8838, -7.1915, -7.1916, -7.1917, -6.0992, -6.7596, -7.026, -7.1053, -6.884, -6.8197, -6.8199, -7.0259, -6.7595, -6.8838, -6.9525, -6.9524, -6.8197, -6.9524, -6.9524, -6.3166, -6.3653, -7.1576, -7.1577, -7.2741, -6.7198, -7.4057, -6.2261, -6.7198, -6.7934, -6.8727, -7.5575, -6.7933, -6.47, -7.0534, -7.7366, -7.7366, -7.7366, -6.5269, -6.5871, -7.0533, -7.0533, -7.0533, -6.4162, -6.7198, -6.1837, -7.1576, -7.1577, -7.9548, -7.9548, -5.4926, -6.8727, -6.8727, -6.4163, -6.9589, -6.8727, -6.6512, -6.5268, -6.7197, -6.1837, -6.7197, -6.8727, -6.9591, -6.7933, -6.9589, -6.9589, -6.9591, -4.7385, -5.1751, -5.5529, -5.6803, -6.0296, -6.096, -6.2846, -5.573, -6.3716, -6.5171, -6.6277, -5.8805, -6.7521, -6.8205, -6.8205, -6.8209, -6.131, -5.6803, -6.8946, -6.1673, -6.9735, -6.9738, -6.9738, -7.0597, -6.3269, -7.1541, -7.1542, -7.1543, -7.1544, -7.1545, -6.4175, -6.2048, -6.5173, -6.5175, -6.5715, -5.6579, -6.131, -5.636, -6.6277, -5.8805, -5.9087, -5.7761, -6.6879, -6.6277, -6.6277, -6.4661], \"loglift\": [30.0, 29.0, 28.0, 27.0, 26.0, 25.0, 24.0, 23.0, 22.0, 21.0, 20.0, 19.0, 18.0, 17.0, 16.0, 15.0, 14.0, 13.0, 12.0, 11.0, 10.0, 9.0, 8.0, 7.0, 6.0, 5.0, 4.0, 3.0, 2.0, 1.0, 2.2298, 2.2256, 2.2231, 2.2217, 2.2147, 2.2125, 2.2101, 2.2101, 2.2101, 2.2101, 2.2101, 2.21, 2.2074, 2.2074, 2.2044, 2.2043, 2.197, 2.197, 2.1954, 2.1874, 2.1874, 2.1874, 2.1814, 2.1654, 2.1653, 2.1614, 2.1546, 2.1545, 2.1486, 2.1486, 2.1398, 2.137, 2.0987, 2.0747, 2.0086, 1.9959, 1.9459, 2.0915, 1.9878, 1.9197, 1.8257, 1.4076, 1.7543, 0.9218, 2.7849, 2.7821, 2.7714, 2.7703, 2.7654, 2.7618, 2.7417, 2.7386, 2.7349, 2.7346, 2.7344, 2.7261, 2.7132, 2.7131, 2.7123, 2.7012, 2.6822, 2.6791, 2.6668, 2.6603, 2.6526, 2.6389, 2.6387, 2.6387, 2.6387, 2.6347, 2.6343, 2.627, 2.622, 2.6042, 2.603, 2.5962, 2.5678, 2.5336, 2.5325, 2.5903, 2.5328, 2.4612, 2.3383, 2.5211, 1.8655, 2.1273, 1.6021, 2.045, 2.0437, 2.0378, 2.0378, 2.0373, 2.0323, 2.0308, 2.0308, 2.0307, 2.0223, 2.0223, 2.0223, 2.0223, 2.0206, 2.0119, 2.0118, 1.9987, 1.9986, 1.9986, 1.9986, 1.9985, 1.9985, 1.9985, 1.9985, 1.9985, 1.9985, 1.9985, 1.9922, 1.9813, 1.9813, 1.9705, 1.9677, 1.9676, 1.9543, 1.8076, 1.9477, 1.9595, 1.9569, 1.9076, 1.8995, 1.8768, 1.9501, 1.948, 1.9034, 1.9021, 1.7627, 1.7034, 1.7034, 1.7564, 1.6864, 1.7882, 1.6316, 1.7833, 1.2141, 0.6238, 1.6964, 1.8114, 3.049, 3.049, 3.0252, 2.9919, 2.9901, 2.9851, 2.9551, 2.9392, 2.9262, 2.9118, 2.9114, 2.8821, 2.8723, 2.8677, 2.8615, 2.8615, 2.8615, 2.853, 2.8337, 2.8178, 2.8143, 2.8138, 2.8101, 2.8094, 2.7927, 2.7926, 2.7926, 2.7925, 2.7889, 2.7648, 2.7627, 2.7591, 2.6393, 2.6322, 2.6227, 2.6874, 2.6873, 2.5446, 2.5316, 2.0458, 1.9108, 1.9108, 2.2106, 2.1433, 1.675, 2.0676, 2.0615, 2.0595, 2.0583, 2.0573, 2.0485, 2.045, 2.0316, 2.0298, 2.027, 2.0238, 2.02, 2.02, 2.0157, 2.0157, 2.0153, 2.0101, 2.0049, 2.0048, 2.0006, 1.9979, 1.9979, 1.9979, 1.997, 1.9895, 1.9895, 1.9894, 1.9818, 1.9791, 1.9791, 1.9696, 1.9607, 1.9038, 1.9099, 1.9124, 1.8615, 1.7925, 1.6418, 1.8002, 1.8465, 1.7535, 1.6927, 1.3282, 1.9638, 1.962, 1.96, 1.9584, 1.9567, 1.9557, 1.9523, 1.9523, 1.952, 1.94, 1.94, 1.9375, 1.9314, 1.9314, 1.9314, 1.9314, 1.9313, 1.9313, 1.9289, 1.9276, 1.9235, 1.9235, 1.9235, 1.9234, 1.9225, 1.9185, 1.9185, 1.9163, 1.9128, 1.9123, 1.9102, 1.9107, 1.9039, 1.8776, 1.8609, 1.8372, 1.6394, 1.8151, 1.7809, 1.6556, 1.8008, 1.6174, 1.6427, 1.7407, 2.4556, 2.4457, 2.4315, 2.427, 2.4068, 2.3976, 2.3787, 2.3716, 2.3644, 2.3462, 2.3462, 2.3374, 2.3364, 2.3199, 2.3198, 2.3198, 2.3198, 2.3196, 2.3196, 2.3196, 2.3139, 2.3118, 2.308, 2.2901, 2.29, 2.2894, 2.2866, 2.2863, 2.2831, 2.2828, 2.2763, 2.2534, 2.2669, 2.226, 2.2681, 2.2681, 2.2671, 2.1078, 2.0256, 2.0667, 1.6449, 1.6449, 1.6579, 1.1266, 1.8499, 2.143, 2.1388, 1.0567, 1.4801, 1.2314, 1.2314, 1.5043, 2.0519, 2.0441, 2.0427, 2.0412, 2.0289, 2.019, 2.019, 2.0119, 2.0039, 2.0038, 1.9962, 1.9932, 1.9896, 1.9885, 1.9794, 1.9781, 1.9781, 1.978, 1.978, 1.9766, 1.9706, 1.9649, 1.9649, 1.9649, 1.9649, 1.9649, 1.9648, 1.9477, 1.9477, 1.9477, 1.9448, 1.9476, 1.9299, 1.9127, 1.9238, 1.9303, 1.9262, 1.9261, 1.8302, 1.8745, 1.8904, 1.867, 1.7902, 1.7388, 1.6888, 1.7658, 1.4747, 1.5943, 1.5902, 1.5122, 1.1304, 1.1512, 1.1512, 2.2829, 2.2785, 2.2774, 2.2772, 2.2662, 2.2528, 2.2523, 2.249, 2.2402, 2.2381, 2.2345, 2.2339, 2.2326, 2.2172, 2.2093, 2.209, 2.209, 2.209, 2.2087, 2.1995, 2.1969, 2.1968, 2.1946, 2.1895, 2.1846, 2.1782, 2.1769, 2.1768, 2.173, 2.1729, 2.1218, 2.1489, 2.1485, 2.1053, 2.1358, 2.0809, 1.9904, 1.9352, 2.0064, 1.7664, 1.9092, 1.912, 1.9419, 1.3688, 1.7703, 1.6743, 1.6267, 2.2341, 2.2298, 2.2244, 2.2221, 2.214, 2.2122, 2.2061, 2.2043, 2.2026, 2.197, 2.1919, 2.1902, 2.1855, 2.1816, 2.1816, 2.1813, 2.1781, 2.1772, 2.1768, 2.1758, 2.172, 2.1718, 2.1718, 2.166, 2.1624, 2.1588, 2.1588, 2.1586, 2.1586, 2.1584, 2.1552, 2.1412, 2.1464, 2.1454, 2.1401, 2.0835, 2.1084, 2.0274, 2.1359, 1.9964, 1.9959, 1.9252, 2.1318, 2.083, 2.0825, 1.3954]}, \"token.table\": {\"Topic\": [2, 3, 10, 9, 10, 2, 2, 2, 10, 3, 9, 2, 9, 2, 2, 3, 9, 1, 6, 8, 10, 4, 8, 9, 4, 7, 8, 1, 9, 3, 6, 8, 3, 7, 9, 5, 10, 6, 7, 8, 2, 3, 8, 10, 3, 10, 2, 6, 4, 7, 9, 3, 9, 10, 6, 2, 5, 8, 2, 7, 5, 5, 8, 2, 1, 1, 3, 9, 10, 7, 5, 7, 10, 3, 4, 5, 5, 7, 9, 1, 4, 6, 10, 10, 3, 8, 9, 5, 9, 10, 1, 8, 10, 2, 4, 2, 5, 9, 8, 8, 5, 9, 4, 1, 6, 6, 1, 6, 10, 1, 6, 6, 1, 6, 1, 7, 1, 7, 1, 6, 10, 3, 4, 8, 5, 8, 1, 4, 7, 2, 5, 9, 3, 8, 3, 9, 2, 7, 8, 2, 8, 2, 5, 8, 9, 8, 2, 3, 7, 9, 3, 3, 8, 10, 3, 7, 5, 1, 1, 4, 3, 8, 3, 7, 1, 8, 9, 1, 7, 9, 1, 3, 8, 9, 7, 1, 10, 7, 2, 5, 8, 3, 2, 9, 7, 8, 3, 1, 4, 8, 4, 5, 7, 10, 5, 9, 4, 6, 2, 7, 1, 6, 9, 9, 3, 8, 9, 10, 6, 8, 2, 7, 2, 7, 2, 7, 9, 5, 7, 6, 9, 10, 4, 6, 1, 4, 8, 8, 3, 6, 7, 10, 2, 4, 3, 3, 5, 5, 5, 5, 3, 7, 8, 9, 8, 3, 4, 8, 9, 1, 3, 7, 8, 10, 5, 8, 6, 4, 5, 4, 9, 2, 3, 2, 3, 8, 6, 7, 9, 1, 3, 1, 4, 5, 7, 1, 2, 3, 5, 6, 7, 3, 4, 8, 9, 9, 10, 4, 7, 8, 7, 2, 5, 10, 3, 9, 3, 9, 10, 1, 2, 3, 9, 2, 2, 3, 6, 3, 6, 9, 6, 7, 9, 1, 2, 4, 5, 10, 10, 5, 6, 5, 5, 8, 10, 1, 1, 4, 2, 5, 9, 10, 6, 9, 2, 3, 5, 1, 5, 7, 1, 5, 7, 2, 7, 8, 2, 3, 8, 3, 9, 5, 10, 10, 1, 1, 6, 5, 8, 9, 10, 3, 9, 6, 7, 8, 5, 7, 5, 7, 8, 4, 4, 3, 9, 1, 5, 6, 7, 3, 5, 8, 1, 7, 1, 3, 7, 9, 8, 9, 1, 8, 8, 9, 8, 9, 7, 1, 7, 8, 1, 7, 8, 1, 6, 8, 2, 3, 10, 10, 3, 4, 8, 9, 3, 5, 5, 5, 10, 1, 3, 8, 8, 1, 6, 8, 9, 10, 8, 9, 5, 6, 7, 9, 1, 5, 6, 7, 2, 3, 6, 7, 3, 5, 9, 10, 10, 3, 1, 7, 9, 10, 6, 1, 6, 7, 8, 5, 5, 5, 6, 8, 10, 4, 6, 8, 4, 1, 6, 9, 2, 9, 4, 10, 4, 10, 2, 3, 5, 3, 6, 6, 1, 6, 8, 10, 8, 10, 1, 7, 2, 3, 9, 7, 4, 7, 5, 10, 9, 10, 7, 5, 8, 9, 2, 7, 7, 8, 5, 5, 8, 10, 6, 6, 8, 4, 6, 8, 8, 10, 1, 3, 9, 2, 3, 5, 8, 1, 10, 1, 1, 3, 8, 3, 7, 9, 10, 7, 10, 4, 5, 8, 1, 4, 8, 8, 4, 7, 5, 6, 1, 10, 1, 8, 9, 10, 8, 9, 4, 5, 6, 8, 1, 1, 4, 1, 4, 7, 1, 4, 7, 8, 9, 8, 10, 2, 5, 3, 3, 5, 4, 6, 7, 7, 3, 1, 3, 10, 3, 6, 3, 6, 7, 8, 9, 3, 8, 9, 10, 1, 10, 1, 2, 7, 9, 10, 2, 10, 7, 10, 6, 10, 1, 6, 9, 1, 7, 1, 7, 1, 7, 5, 8, 9, 3, 4, 5, 8, 3, 4, 2, 3, 4, 8, 9, 5, 7, 9, 3, 8, 8, 8, 1, 6, 8, 3, 6, 1, 3, 8, 2, 9, 3, 9, 10, 8, 10, 8, 10, 5, 9, 3, 8, 9, 6, 6, 5, 7, 7, 8, 2, 5, 8, 2, 9, 2, 9, 2, 8, 5, 5, 7, 9, 1, 1, 1, 6, 6, 6, 6, 6, 6, 6, 6, 6, 6, 7, 9, 1, 3, 5, 3, 8, 9, 10, 9, 10, 3, 5, 9, 5, 9, 5, 9, 3, 4, 3, 4, 8, 2, 3, 4, 5, 2, 8, 4, 5, 7, 4, 6, 1, 6, 6, 2, 7, 8, 6, 8, 10, 5, 6, 8, 9, 10, 3, 10, 3, 8, 10, 7, 1, 5, 8, 9, 6, 10, 10, 6, 10, 3, 9, 7, 8, 1, 1, 8, 1, 8, 10, 1, 5, 7, 8, 4, 5, 8, 3, 5, 7, 8, 3, 5, 9, 8, 10, 10, 7, 9, 10, 3, 6, 7, 8, 9, 3, 8, 9, 3, 7, 6, 8, 5, 8, 8, 2, 6, 8, 1, 3, 8, 1, 2, 1, 2, 3, 6, 7, 8, 1, 4, 10, 2, 4, 5, 2, 3, 8, 1, 2, 4, 5, 3, 8, 2, 7, 8, 1, 7, 1, 7, 4, 9, 9, 2, 8, 2, 7, 9, 10, 10, 3, 6, 10, 8, 9, 10, 8, 3, 1, 4, 4, 7, 5, 7, 1, 2, 4, 4, 1, 3, 1, 7, 6, 8, 6, 3, 3, 7, 10, 5, 4, 5, 8, 10, 3, 4, 7, 9, 4, 6, 4, 9], \"Freq\": [0.023143354139666065, 0.23143354139666067, 0.717443978329648, 0.043973547618416216, 0.9234444999867406, 0.8582637720976717, 0.7272788686082893, 0.9062237187190458, 0.9349820306885153, 0.8554353599511251, 0.13160543999248078, 0.11030031883020125, 0.88240255064161, 0.9352988965710637, 0.8582138663797847, 0.8722672054363245, 0.8733737172717726, 0.0993021861215927, 0.14895327918238904, 0.5461620236687599, 0.0993021861215927, 0.5706002851257574, 0.22824011405030298, 0.22824011405030298, 0.06997222355478708, 0.06997222355478708, 0.839666682657445, 0.9780605667812253, 0.9172110325376935, 0.7445599065909775, 0.08272887851010861, 0.16545775702021723, 0.9058106472969298, 0.8046861305800267, 0.1788191401288948, 0.9718908452632733, 0.9939369032934008, 0.11554098148602412, 0.8087868704021688, 0.05777049074301206, 0.04351397853308985, 0.6962236565294376, 0.04351397853308985, 0.1740559141323594, 0.9328178842285166, 0.051823215790473144, 0.8287488102497897, 0.10359360128122372, 0.8588999120561044, 0.053681244503506524, 0.053681244503506524, 0.08508473720439087, 0.14180789534065147, 0.7941242139076482, 0.9706913502980354, 0.05451536798274625, 0.87224588772394, 0.05451536798274625, 0.13575040087981144, 0.8145024052788687, 0.9283545879538578, 0.0536851903832317, 0.9126482365149389, 0.7272740131233933, 0.9590801037078802, 0.11007494560054643, 0.11007494560054643, 0.36691648533515475, 0.36691648533515475, 0.8945897763878027, 0.0999318366049295, 0.34976142811725325, 0.4996591830246475, 0.7415227203210264, 0.07415227203210265, 0.22245681609630794, 0.28270592775041486, 0.6596471647509681, 0.8733210182284553, 0.18544470392832618, 0.5563341117849786, 0.09272235196416309, 0.09272235196416309, 0.9738553241847804, 0.08666544358866839, 0.08666544358866839, 0.7799889922980154, 0.02409132533043294, 0.12045662665216471, 0.8431963865651529, 0.923660262893928, 0.8939776669975835, 0.06876751284596797, 0.17609808126312043, 0.7043923250524817, 0.05480710748992114, 0.822106612348817, 0.10961421497984228, 0.928122019586076, 0.9303205470878932, 0.9152228976111456, 0.05383664103594974, 0.7741143319678351, 0.05294574164975256, 0.9000776080457935, 0.9598369026959048, 0.27123493148498107, 0.7093836669607196, 0.020864225498844695, 0.04868942825469011, 0.925099136839112, 0.9736417214404343, 0.09030492853474, 0.9030492853473999, 0.12168175567992397, 0.8517722897594677, 0.12167509352239125, 0.8517256546567388, 0.7752513851034227, 0.20401352239563755, 0.9278196904401391, 0.9357611348193262, 0.3869995796501582, 0.5417994115102215, 0.11567840152908732, 0.8483082778799736, 0.12174834611053476, 0.8522384227737433, 0.8945607356560582, 0.8581219419414409, 0.08581219419414408, 0.04290609709707204, 0.9697263704075303, 0.8670962868775528, 0.11851135860410077, 0.8295795102287054, 0.820940578503401, 0.03909240850016195, 0.11727722550048585, 0.8736550450126398, 0.11648733933501865, 0.7787351797720841, 0.040986062093267585, 0.12295818627980275, 0.040986062093267585, 0.9773756866452525, 0.3011968280264938, 0.40159577070199165, 0.1338652569006639, 0.16733157112582986, 0.8722535522767123, 0.9357108317596105, 0.9797959393703907, 0.01689303343742053, 0.736732678288278, 0.2517947128327026, 0.867285697537799, 0.896070192381433, 0.12521418504572282, 0.845195749058629, 0.1649861207823091, 0.8249306039115455, 0.9357128738203512, 0.8945869414695131, 0.09541962880788808, 0.8587766592709927, 0.785862061901354, 0.7341444621902043, 0.21592484182064833, 0.04318496836412967, 0.8857553364348737, 0.1556774655636636, 0.6746023507758756, 0.10378497704244241, 0.8398899578799792, 0.07082530371053843, 0.9207289482369995, 0.8945763205006353, 0.727272507095638, 0.9497368338353042, 0.9875812006305322, 0.9357335411710201, 0.8338511973539084, 0.873316486655513, 0.9312566401063255, 0.07450053120850604, 0.9058078852928243, 0.09291205568389892, 0.8362085011550902, 0.09291205568389892, 0.3378245273056839, 0.05630408788428065, 0.1126081757685613, 0.5067367909585259, 0.9284840308782788, 0.05158244615990437, 0.8257327456839981, 0.18349616570755514, 0.09679659032660241, 0.8711693129394217, 0.6305510735827003, 0.29102357242278476, 0.048503928737130796, 0.9357270072990509, 0.9337759601076967, 0.13369801100611015, 0.044566003668703384, 0.8021880660366609, 0.05140519988589406, 0.925293597946093, 0.747615122376514, 0.23496475274690437, 0.7640433930413127, 0.22921301791239385, 0.7597252363451358, 0.20719779173049158, 0.8735097836223863, 0.939252492942315, 0.04269329513374159, 0.8351091200139259, 0.05567394133426173, 0.11134788266852345, 0.9161267417012984, 0.05388980833537049, 0.12798420994167845, 0.7679052596500706, 0.12798420994167845, 0.9303445117834139, 0.04050112404997899, 0.9315258531495169, 0.8514190933556253, 0.1216312990508036, 0.8583162078985825, 0.7741096767825081, 0.969719957618785, 0.9357467044336565, 0.9642510155451466, 0.9929676796622314, 0.9272569543144685, 0.9789940447669435, 0.19717667369753686, 0.19717667369753686, 0.5520946863531032, 0.039435334739507374, 0.949520752570387, 0.061232451444460934, 0.12246490288892187, 0.7347894173335312, 0.061232451444460934, 0.9422747574037126, 0.7298299693657317, 0.13269635806649668, 0.06634817903324834, 0.06634817903324834, 0.10736776015479332, 0.8589420812383466, 0.9565631463784625, 0.7650877480158165, 0.2550292493386055, 0.8334892209042503, 0.1515434947098637, 0.7550931310018276, 0.25169771033394256, 0.7854452984123313, 0.19636132460308284, 0.9303271533625693, 0.09324564266811723, 0.09324564266811723, 0.7459651413449379, 0.9742433842723289, 0.933779765287772, 0.035564993473555254, 0.10669498042066576, 0.8535598433653261, 0.8042629194263415, 0.9422800581969464, 0.09699115850762852, 0.8729204265686566, 0.2651329022018458, 0.28923589331110455, 0.43385383996665683, 0.9357306376817877, 0.0571756975925162, 0.1143513951850324, 0.8576354638877429, 0.8714058757733496, 0.1089257344716687, 0.052005902153305285, 0.8841003366061898, 0.052005902153305285, 0.8962300814954358, 0.9064453707298858, 0.06972656697922198, 0.9278615745610272, 0.11850326218385893, 0.8295228352870125, 0.11209759232970036, 0.44839036931880144, 0.39234157315395124, 0.06613920448952995, 0.8598096583638893, 0.06613920448952995, 0.9172597319316984, 0.9026391210589748, 0.3783653788906531, 0.18918268944532654, 0.4098958271315408, 0.8310245241034887, 0.08310245241034887, 0.08310245241034887, 0.905083972595797, 0.0532402336821057, 0.0532402336821057, 0.045628207022939404, 0.8213077264129093, 0.045628207022939404, 0.09125641404587881, 0.9419106791567529, 0.9811211753360838, 0.9624712983947621, 0.030077228074836315, 0.9068604271592942, 0.9068514855365428, 0.03348860032043039, 0.937680808972051, 0.8536012757765172, 0.17271366678240324, 0.690854667129613, 0.06616880752079118, 0.727856882728703, 0.13233761504158237, 0.06616880752079118, 0.08148865504141649, 0.8963752054555814, 0.8465974686340473, 0.07696340623945884, 0.8672618066624337, 0.25491482071046645, 0.050982964142093294, 0.6627785338472129, 0.08336832775682948, 0.08336832775682948, 0.8336832775682947, 0.8417140906990994, 0.07651946279082722, 0.07651946279082722, 0.9146292986912892, 0.04573146493456446, 0.04573146493456446, 0.6322345024462783, 0.28737931929376287, 0.9283441461981959, 0.9810063079025221, 0.9566319278859701, 0.9380698209389439, 0.899935432114851, 0.07499461934290425, 0.6536851486411825, 0.11885184520748773, 0.11885184520748773, 0.059425922603743866, 0.9333465717795425, 0.04444507484664488, 0.9458231931025828, 0.8486959627509326, 0.12124228039299037, 0.0210417961485466, 0.9679226228331436, 0.8546466235714627, 0.0776951475974057, 0.928141983777875, 0.9424552642586059, 0.9424659248597417, 0.10868461065571741, 0.8694768852457393, 0.978059328274008, 0.23963402389639663, 0.31951203186186217, 0.4260160424824829, 0.05883093842828549, 0.11766187685657098, 0.8236331379959969, 0.11161391056029245, 0.7812973739220471, 0.8356173094728158, 0.055707820631521056, 0.055707820631521056, 0.055707820631521056, 0.709078806577539, 0.272722617914438, 0.7453567545843409, 0.2608748641045193, 0.21219708422857378, 0.7851292116457229, 0.13702783651313352, 0.8221670190788011, 0.9506344701797137, 0.3114672081077601, 0.2768597405402312, 0.3806821432428179, 0.3114632374676838, 0.2768562110823856, 0.3806772902382802, 0.05549281286390836, 0.776899380094717, 0.16647843859172506, 0.7875233955702408, 0.1312538992617068, 0.9905591643417816, 0.9205702399074963, 0.031180988780115194, 0.031180988780115194, 0.8730676858432255, 0.06236197756023039, 0.044097932764985436, 0.926056588064694, 0.9754117534628356, 0.9005928741119378, 0.9561334007315347, 0.8858045669899132, 0.9356905808811691, 0.9066407308840413, 0.9066618227178487, 0.07950950684719547, 0.6758308082011616, 0.07950950684719547, 0.07950950684719547, 0.07950950684719547, 0.2579741656665447, 0.7094289555829978, 0.07681657248523273, 0.07681657248523273, 0.15363314497046546, 0.6145325798818618, 0.9423018920412037, 0.2651342357638312, 0.28923734810599766, 0.43385602215899655, 0.06280579340030691, 0.06280579340030691, 0.18841738020092072, 0.6280579340030691, 0.8319817194075474, 0.08319817194075474, 0.08319817194075474, 0.934984107844494, 0.9278557737851949, 0.8722438447987089, 0.11853636249393518, 0.05926818124696759, 0.7112181749636111, 0.11853636249393518, 0.9809798801415547, 0.03846303519079127, 0.07692607038158254, 0.6154085630526603, 0.2692412463355389, 0.99215797735995, 0.9006294916081492, 0.9452172945514533, 0.9733058092844143, 0.01410588129397702, 0.01410588129397702, 0.04280471268897049, 0.7276801157124982, 0.21402356344485243, 0.6270553084919319, 0.8736607052521759, 0.06720466963478276, 0.06720466963478276, 0.9376568937448001, 0.03606372668249231, 0.9186051602918853, 0.07655043002432378, 0.8485477623153597, 0.10606847028941996, 0.06969562304956195, 0.8363474765947435, 0.06969562304956195, 0.8722384135948366, 0.9124986409869428, 0.9124852202486331, 0.9380863781036957, 0.0792800312339012, 0.0396400156169506, 0.8720803435729133, 0.05089687612945648, 0.9161437703302167, 0.9298511297210814, 0.04132671687649251, 0.052566495401750464, 0.15769948620525137, 0.7884974310262569, 0.8945781817483086, 0.12435416547061685, 0.870479158294318, 0.9005796163296645, 0.9278676126097429, 0.4702100119477619, 0.4702100119477619, 0.8970651494834914, 0.06511278480091033, 0.06511278480091033, 0.8464662024118343, 0.8195615589066062, 0.1821247908681347, 0.7365655610214066, 0.22096966830642195, 0.8672981215941894, 0.027058272955468535, 0.027058272955468535, 0.9470395534413988, 0.9125194266142188, 0.9125108243589894, 0.9610003292472955, 0.7821991148026526, 0.17382202551170056, 0.964019803537624, 0.060592908305034075, 0.9088936245755111, 0.05926411912138317, 0.8889617868207476, 0.7858802194917277, 0.07378744404880104, 0.7378744404880104, 0.14757488809760208, 0.07378744404880104, 0.8848290013130515, 0.09831433347922794, 0.9597482995842741, 0.27205273003548835, 0.5985160060780744, 0.10882109201419535, 0.8696851984470442, 0.03781239993248018, 0.03781239993248018, 0.03781239993248018, 0.8940009996198446, 0.08940009996198446, 0.7101888875805781, 0.11836481459676301, 0.11836481459676301, 0.08278644392768564, 0.4139322196384282, 0.4967186635661138, 0.9640304234761381, 0.7868311806208349, 0.15736623612416697, 0.9842984535730652, 0.01416256767731029, 0.9814276647536073, 0.01851750310855863, 0.43465319751486525, 0.05433164968935816, 0.08149747453403723, 0.43465319751486525, 0.1732492053453306, 0.7796214240539876, 0.23003978027827124, 0.7476292859043815, 0.9348646538502507, 0.046743232692512536, 0.8857913859609633, 0.3042777509288921, 0.6085555018577842, 0.29277097770324023, 0.6343371183570206, 0.04879516295054004, 0.33469886452755904, 0.5857230129232283, 0.964384336860601, 0.018195930884162284, 0.018195930884162284, 0.12702231236533784, 0.825645030374696, 0.5888654961726231, 0.3747325884734874, 0.9357245780828748, 0.8277694259946012, 0.17737916271312884, 0.6084685901904883, 0.15211714754762207, 0.15211714754762207, 0.8946211875489231, 0.9058315227594927, 0.1474808271916219, 0.6636637223622985, 0.1474808271916219, 0.8872378501107833, 0.08872378501107832, 0.12938853528810346, 0.12938853528810346, 0.12938853528810346, 0.06469426764405173, 0.5175541411524138, 0.17556831418878446, 0.17556831418878446, 0.6437504853588764, 0.05852277139626149, 0.024972016047001184, 0.9739086258330462, 0.8960957391575465, 0.9608344964401085, 0.08753387341682926, 0.8753387341682926, 0.9808045683884861, 0.9871613893745984, 0.935074190171719, 0.08820422767995956, 0.9261443906395753, 0.7232743382255292, 0.25314601837893524, 0.7660762761808535, 0.10214350349078047, 0.10214350349078047, 0.8799382216388556, 0.1353751110213624, 0.9031861062489966, 0.0950722217104207, 0.09241408727891472, 0.8779338291496898, 0.6415784653665632, 0.18869954863722446, 0.15095963890977956, 0.17199442982831006, 0.6879777193132403, 0.37582513058904565, 0.5905823480685003, 0.8919752512597464, 0.6270632859223194, 0.029075135878613226, 0.1163005435144529, 0.029075135878613226, 0.7850286687225572, 0.05815027175722645, 0.4884113808054488, 0.35520827694941737, 0.1332031038560315, 0.05614644045349165, 0.8983430472558664, 0.9640101589445371, 0.964037721031506, 0.09048009665672437, 0.8595609182388815, 0.886918960288478, 0.8872794966300159, 0.0887279496630016, 0.8536632713146091, 0.9357552867855291, 0.9303105533470956, 0.08252315974554798, 0.9077547572010278, 0.08703426054887792, 0.8703426054887792, 0.9558493833047892, 0.9085864972074628, 0.0825987724734057, 0.06696214626030773, 0.8705079013840005, 0.059399738980254066, 0.890996084703811, 0.2971393676331774, 0.0495232279388629, 0.6438019632052178, 0.913899455034413, 0.9368713341882721, 0.6946532768463957, 0.2526011915805075, 0.04421676607431215, 0.9285520875605552, 0.033655004195380867, 0.033655004195380867, 0.9086851132752833, 0.34192871872084474, 0.6154716936975205, 0.09440748184106522, 0.849667336569587, 0.9064160492038039, 0.06972431147721568, 0.9642141826958284, 0.1893372398632494, 0.6626803395213728, 0.0946686199316247, 0.9422891941315963, 0.9422888606976726, 0.9587627719565815, 0.9565733561260931, 0.971276544480089, 0.9565696760862287, 0.9863001591307049, 0.9629804899513682, 0.98395561040295, 0.9565633227901997, 0.9809782231486237, 0.9125039936661827, 0.9473661207074733, 0.0369103683392522, 0.012303456113084069, 0.9423006868034066, 0.907543227200358, 0.04776543301054516, 0.05517673418179461, 0.11035346836358922, 0.05517673418179461, 0.7724742785451246, 0.0425046758736089, 0.9351028692193958, 0.05017529093468268, 0.05017529093468268, 0.9031552368242883, 0.05682519710024549, 0.9092031536039279, 0.12406487406955996, 0.8684541184869198, 0.6551107144445366, 0.3275553572222683, 0.6551137098547349, 0.32755685492736747, 0.9303490473292269, 0.027221407491244753, 0.027221407491244753, 0.027221407491244753, 0.8983064472110769, 0.8091416896597634, 0.17980926436883632, 0.07459198556548216, 0.8205118412203037, 0.14918397113096432, 0.7740138706779651, 0.9368625120975235, 0.045065440548204036, 0.9463742515122848, 0.9598312765611998, 0.9473372385676757, 0.9380171893384374, 0.050703631856131755, 0.8645941509400584, 0.05085847946706226, 0.10171695893412452, 0.9893199673835624, 0.13773929605100882, 0.7575661282805485, 0.06886964802550441, 0.06886964802550441, 0.8634272657161177, 0.09593636285734641, 0.8097516631865725, 0.062288589475890194, 0.12457717895178039, 0.8945461130130381, 0.9716432354097291, 0.05936745474401281, 0.3858884558360833, 0.5343070926961153, 0.06356969090457862, 0.8899756726641006, 0.9810650149324183, 0.06054325855595085, 0.9081488783392627, 0.8337949325313802, 0.10422436656642252, 0.06531812698313497, 0.9144537777638895, 0.9834188690112774, 0.09542188746351456, 0.858796987171631, 0.5871440430217593, 0.31615448470402424, 0.09032985277257835, 0.2177112029849477, 0.16328340223871077, 0.5442780074623692, 0.10885560149247385, 0.7730694252188043, 0.11043848931697203, 0.11043848931697203, 0.8125469244486353, 0.10833958992648471, 0.054169794963242354, 0.054169794963242354, 0.08096901610334992, 0.16193803220669983, 0.7287211449301493, 0.055321202759524644, 0.940460446911919, 0.9278173418063476, 0.07708230649577079, 0.8479053714534787, 0.07708230649577079, 0.04430407527496877, 0.04430407527496877, 0.7974733549494379, 0.08860815054993754, 0.04430407527496877, 0.04480923847553346, 0.1344277154266004, 0.8065662925596023, 0.8357081153808771, 0.10446351442260964, 0.9341984343667363, 0.062279895624449085, 0.8925321124046334, 0.06865631633881795, 0.9303261005532334, 0.07801504529024657, 0.07801504529024657, 0.8581654981927122, 0.7935349175842468, 0.03967674587921234, 0.15870698351684936, 0.15290186068704928, 0.840960233778771, 0.04914796222854306, 0.04914796222854306, 0.09829592445708613, 0.835515357885232, 0.09580601078159726, 0.8622540970343753, 0.9230278985355518, 0.054295758737385395, 0.9766624398313579, 0.9552970234246894, 0.6874601566852794, 0.17186503917131984, 0.7072664685862555, 0.1928908550689788, 0.0642969516896596, 0.12096301166652823, 0.8467410816656976, 0.12208189201277321, 0.8545732440894125, 0.861209718928408, 0.09568996876982312, 0.2516306512988943, 0.10065226051955771, 0.6039135631173463, 0.13372904443571093, 0.8023742666142656, 0.13373651980340193, 0.8024191188204115, 0.920193651265087, 0.07668280427209058, 0.8188710374219349, 0.9252809661792237, 0.05442829212818963, 0.5092607184973795, 0.3960916699424063, 0.056584524277486614, 0.9554012231904077, 0.9683517595265191, 0.06347667345209299, 0.06347667345209299, 0.8251967548772088, 0.8869643772431601, 0.8714636564653166, 0.10893295705816458, 0.8869509359005326, 0.9357373833777106, 0.14281480962092644, 0.8568888577255586, 0.15245206523836857, 0.7622603261918429, 0.953674485916115, 0.03866247915876142, 0.6632237579599666, 0.05526864649666388, 0.22107458598665553, 0.7740781361762225, 0.9236657404680664, 0.8919978923193156, 0.8975388091265578, 0.06410991493761127, 0.9367179758038278, 0.03469325836310473, 0.9638573019510771, 0.9574146142046004, 0.153927855978888, 0.8209485652207359, 0.9109025233996367, 0.9719030116636038, 0.6298665757190764, 0.048451275055313575, 0.09690255011062715, 0.24225637527656788, 0.935717996873815, 0.6270419026257663, 0.8635552234370165, 0.09595058038189072, 0.7652599062522022, 0.19131497656305055, 0.6932589462450802, 0.17331473656127006], \"Term\": [\"-\", \"-\", \"-\", \"^2\", \"^2\", \"aero-thermal\", \"aero-thermal characterist\", \"aero-thermal perform\", \"air flow channel\", \"air side\", \"air side\", \"aircraft heater\", \"aircraft heater\", \"airoil\", \"airoil heat exchang\", \"analyt method\", \"andreini\", \"annular flow\", \"annular flow\", \"annular flow\", \"annular flow\", \"anova\", \"anova\", \"anova\", \"array sampl\", \"array sampl\", \"array sampl\", \"ashraf\", \"august\", \"back surfac\", \"back surfac\", \"back surfac\", \"bare plate\", \"base plate temperatur\", \"base plate temperatur\", \"baselin design\", \"batteri\", \"beam\", \"beam\", \"beam\", \"bejan number\", \"bejan number\", \"bejan number\", \"bejan number\", \"bello-ochende\", \"bello-ochende\", \"bessel function\", \"bessel function\", \"boundari surfac\", \"boundari surfac\", \"boundari surfac\", \"braze\", \"braze\", \"braze\", \"brigg\", \"bubbl coalesc\", \"bubbl coalesc\", \"bubbl coalesc\", \"bubbl dynam\", \"bubbl dynam\", \"bubbl smooth region\", \"buoyanc paramet\", \"buoyanc paramet\", \"busan\", \"c. balaji\", \"c/d\", \"c/d\", \"c/d\", \"c/d\", \"case 1 case 2\", \"case 2\", \"case 2\", \"case 2\", \"case case\", \"case case\", \"case case\", \"cfd-ace+\", \"cfd-ace+\", \"chann\", \"channel clearanc\", \"channel clearanc\", \"channel clearanc\", \"channel clearanc\", \"channel specimen\", \"channel turbul\", \"channel turbul\", \"channel turbul\", \"che\", \"che\", \"che\", \"circular inlin\", \"cm2 cm2\", \"cm2 cm2\", \"colburn j factor\", \"colburn j factor\", \"cold side\", \"cold side\", \"cold side\", \"cold spray\", \"cold spray addit manufactur\", \"combustor liner\", \"combustor liner\", \"comparison experi\", \"condens film\", \"condens film\", \"condens heat flux\", \"condens heat transfer\", \"condens heat transfer\", \"condens heat transfer\", \"condens retent\", \"condens retent\", \"condens retent height\", \"condens steam\", \"condens steam\", \"confer journal\", \"confer journal\", \"confer journal physic\", \"confer journal physic\", \"conic pin fin\", \"conic pin fin\", \"constant width\", \"construct theori\", \"contribut ratio\", \"contribut ratio\", \"convect coeffici\", \"convect coeffici\", \"convent microchannel\", \"convent microchannel\", \"coolant flow heat transfer\", \"cooler\", \"cooler\", \"cooler\", \"copper pin\", \"corbeil\", \"core surfac\", \"core surfac\", \"corioli\", \"corioli\", \"corioli\", \"corioli effect\", \"corioli effect\", \"corioli forc\", \"corioli forc\", \"corioli forc\", \"corioli forc\", \"cormier\", \"correct factor\", \"correct factor\", \"correct factor\", \"correct factor\", \"counter-flow\", \"counter-flow heat exchang\", \"coupon\", \"coupon\", \"cpf\", \"cpf\", \"crisi\", \"critic spts\", \"critic temperatur\", \"critic temperatur\", \"cubic pin\", \"cubic pin\", \"cylindr ellipt\", \"d3\", \"densiti fin\", \"densiti fin\", \"descript experiment\", \"design problem\", \"design problem\", \"design problem\", \"design solut\", \"dimpl surfac\", \"dimpl surfac\", \"dimpl surfac\", \"discharg coeffici\", \"discharg rate\", \"discharg rate\", \"distanc node\", \"downstream cooler\", \"dri spot\", \"dupui\", \"dynam characterist\", \"edg cooler\", \"effect heat transfer pin\", \"effus\", \"effus\", \"element heat transfer\", \"enclosur\", \"enclosur\", \"enclosur\", \"energi convers manag\", \"energi convers manag\", \"energi convers manag\", \"energi convers manag\", \"energi engin\", \"energi engin\", \"enhanc microchannel heat sink\", \"enhanc microchannel heat sink\", \"enhanc model\", \"enhanc model\", \"enhanc tube\", \"enhanc tube\", \"enhanc tube\", \"enhanc turbul heat transfer\", \"exchang smooth\", \"exit qualiti\", \"exit qualiti\", \"exit qualiti\", \"extract flow\", \"extract flow\", \"fals\", \"fals\", \"fals fals\", \"fals fals\", \"fals fals fals\", \"fals fals fals\", \"februari\", \"film effect\", \"film effect\", \"film evapor\", \"film evapor\", \"film evapor\", \"fin fin fin\", \"fin fin fin\", \"fin number\", \"fin number\", \"fin number\", \"fin sampl\", \"fire\", \"fire\", \"flow calcul\", \"flow calcul\", \"flow entri\", \"flow fluid\", \"flow rate air\", \"fluid dynam characterist\", \"fractal\", \"fractal dimens\", \"fractal structur\", \"fractal surfac\", \"friction coeffici\", \"friction coeffici\", \"friction coeffici\", \"friction coeffici\", \"friction factor augment\", \"friction factor ratio\", \"friction factor ratio\", \"friction factor ratio\", \"friction factor ratio\", \"function evalu\", \"gas turbin airfoil\", \"gas turbin airfoil\", \"gas turbin airfoil\", \"gas turbin airfoil\", \"geometr ratio\", \"geometr ratio\", \"gmax\", \"grid generat\", \"grid generat\", \"grid generat packag\", \"grid generat packag\", \"group 2\", \"group 2\", \"group 3\", \"group 3\", \"guard heater\", \"heat block\", \"heat block\", \"heat block\", \"heat densiti\", \"heat exchang smooth\", \"heat mass tran\", \"heat mass tran\", \"heat mass tran\", \"heat mass transf khoshvaght-aliabadi\", \"heat mass transfer 117\", \"heat mass transfer 119\", \"heat mass transfer 119\", \"heat mass transfer 126\", \"heat mass transfer 126\", \"heat mass transfer 126\", \"heat plot\", \"heat resist\", \"heat resist\", \"heat resist\", \"heat row\", \"heat row\", \"heat sink modul\", \"heat sink modul\", \"heat sink modul\", \"heat sink nanofluid\", \"heat sink pack\", \"heat sink pack\", \"heat specimen\", \"heat transfer cylindr pin\", \"heat transfer cylindr pin\", \"heat transfer flow friction\", \"heat transfer flow friction\", \"heat transfer flow friction\", \"heat transfer properti\", \"heat transfer properti\", \"heat transfer properti\", \"heat-exchanger\", \"heat-transfer area\", \"heat-transfer rate\", \"heat-transfer rate\", \"heat-transfer rate\", \"heater pin\", \"heater pin\", \"heater pin\", \"heater rtds\", \"heater rtds\", \"heater rtds\", \"heatsink\", \"heatsink\", \"heatsink\", \"heatsink\", \"helium flow\", \"helium gas\", \"heterogen\", \"heterogen\", \"heterogen fractal surfac\", \"heterogen surfac\", \"hfe-7200\", \"hfe-7200\", \"horizont vertic space\", \"hosseinizadeh\", \"hosseinizadeh\", \"hot side\", \"hot side\", \"hot side\", \"hot side\", \"htd\", \"htd\", \"hu\", \"hu\", \"hydrodynam instabl\", \"hydrotherm\", \"hydrotherm\", \"hydrotherm\", \"hydrotherm perform\", \"hydrotherm perform\", \"hydrotherm perform\", \"incept\", \"incept\", \"incept\", \"inclin angl\", \"inclin angl\", \"inclin angl\", \"inconel foil\", \"inconel foil\", \"increas fractal dimens\", \"inlet air flow\", \"inlet air flow temperatur\", \"input heat densiti\", \"input heat flux\", \"input heat flux\", \"inspect\", \"inspect\", \"inspect\", \"inspect\", \"insul tip\", \"insul tip\", \"integral-fin tube\", \"interv valu\", \"interv valu\", \"jet array\", \"jet array\", \"jet diamet\", \"jet diamet\", \"jodoin\", \"joshi intern\", \"joshi intern journal\", \"journal heat fluid flow\", \"journal heat fluid flow\", \"journal heat mass transfer 117\", \"journal heat mass transfer 126\", \"journal heat mass transfer 126\", \"journal heat mass transfer 126\", \"journal of turbomachineri\", \"journal of turbomachineri\", \"journal of turbomachineri\", \"journal physic\", \"journal physic\", \"junction temperatur\", \"junction temperatur\", \"junction temperatur\", \"junction temperatur\", \"k.-y\", \"k.-y\", \"kg/m2s kg/m2s\", \"kg/m2s kg/m2s\", \"kg/s/m2\", \"kg/s/m2\", \"kg/s/m2 kg/s/m2\", \"kg/s/m2 kg/s/m2\", \"khoshvaght-aliabadi\", \"kim intern\", \"kim intern\", \"kim intern\", \"kim intern journal\", \"kim intern journal\", \"kim intern journal\", \"laser power\", \"laser power\", \"laser power\", \"later direct\", \"later direct\", \"li-ion\", \"li-ion batteri\", \"ligrani\", \"ligrani\", \"ligrani\", \"ligrani\", \"liner\", \"liner\", \"liquid suppli\", \"liquid suppli pathway\", \"lithium-ion\", \"longitudin fin pitch\", \"louver fin\", \"m.-a\", \"m.-a k.-y\", \"martinelli\", \"martinelli\", \"martinelli\", \"martinelli\", \"martinelli\", \"mass flux kg/s/m2\", \"mass flux kg/s/m2\", \"mass heat transfer\", \"mass heat transfer\", \"mass heat transfer\", \"mass heat transfer\", \"mass transfer 117\", \"mass transfer 126\", \"mass transfer 126\", \"mass transfer 126\", \"materi scienc\", \"materi scienc\", \"materi scienc\", \"materi scienc\", \"maxim heat transfer\", \"maxim heat transfer\", \"maxim heat transfer\", \"maximum temperatur batteri\", \"mccarti\", \"measur heat-transfer coeffici\", \"micro pin heat\", \"micro pin heat\", \"micro pin heat\", \"micro pin heat\", \"micro-device\", \"micro-pin\", \"micro-pin\", \"micro-pin\", \"micro-pin\", \"micro-pin-fin region\", \"micro-pin-fin structur\", \"micro-pin-fin unit region\", \"micro-pinfin array\", \"micro-pinfin array\", \"micro-pinfin array\", \"micro-pinfins\", \"micro-pinfins\", \"micro-pinfins\", \"microchannel enhanc\", \"microfin tube\", \"microfin tube\", \"microfin tube\", \"micrograv\", \"micrograv\", \"micropin\", \"micropin\", \"micropin array\", \"micropin array\", \"midlin\", \"midlin\", \"midlin\", \"midlin heat transfer\", \"mita intern\", \"mita intern journal\", \"moea\", \"mohammadian\", \"mohammadian\", \"mohammadian\", \"mohammadian zhang\", \"mohammadian zhang\", \"n-eicosane\", \"n-eicosane\", \"naca\", \"naca\", \"naca\", \"nanofluid-cooled\", \"nanoparticl\", \"nanoparticl\", \"narrowest\", \"nasp\", \"nload\", \"nload\", \"node node\", \"novemb\", \"novemb\", \"novemb\", \"nu1\", \"nu1\", \"nuavg\", \"nuavg\", \"nucleat site densiti\", \"nudh\", \"nudh\", \"nudh\", \"nusselt 's model\", \"nusselt 's model eq.\", \"nusselt number ratio\", \"obliqu fin\", \"obliqu fin\", \"obstacl\", \"olson\", \"olson\", \"opt\", \"opt\", \"optim dimpl\", \"optim microchannel\", \"optim microchannel\", \"optim microchannel\", \"optim microchannel\", \"optim pin-fin heat sink\", \"optim pin-fin heat sink\", \"optim plate-fin\", \"optimis\", \"optimis\", \"optimis\", \"optimum paramet\", \"optimum paramet\", \"optimum paramet\", \"optimum paramet\", \"origin design\", \"origin design\", \"orthogon\", \"orthogon\", \"orthogon\", \"orthogon array\", \"orthogon array\", \"orthogon array\", \"ottawa\", \"oxi\", \"oxi\", \"panel\", \"panel\", \"paraffin wax\", \"paraffin wax\", \"pareto\", \"pareto\", \"pareto\", \"pareto\", \"pareto-optimal solut\", \"pareto-optimal solut\", \"partit\", \"partit\", \"past\", \"past\", \"pbil\", \"pcm percentag\", \"pcm percentag\", \"pcm-based\", \"pcm-based\", \"pcm-based\", \"pcm-based heat sink\", \"pcm-based heat sink\", \"perfor\", \"perfor\", \"perfor\", \"pf-5060\", \"pf-5060\", \"pf30\", \"pf30\", \"pin cross-section\", \"pin endwal heat transfer\", \"pin endwal heat transfer\", \"pin enhanc microgap\", \"pin enhanc microgap\", \"pin enhanc microgap\", \"pin fin perfor\", \"pin midlin\", \"pin pin pin\", \"pin pin pin\", \"pin pin pin\", \"pin profil\", \"pin profil\", \"pin reynold number\", \"pin reynold number\", \"pin reynold number\", \"pin reynold number\", \"pin reynold number\", \"pin s/d\", \"pin s/d\", \"pin s/d\", \"pin s/d\", \"pin-fin experiment\", \"pin-fin experiment\", \"pin-fin heat sink plate-fin heat\", \"pin-fin plate\", \"pin-fin section\", \"pin-fin section\", \"pin-fin specimen\", \"pinfin model\", \"pinfin specimen\", \"pitch ratio\", \"pitch ratio\", \"plain surfac\", \"plain surfac\", \"plain tube\", \"plain tube\", \"plain tube\", \"plate-fin pin-fin\", \"plate-fin pin-fin\", \"plate-fin pin-fin heat sink\", \"plate-fin pin-fin heat sink\", \"ppfhs\", \"ppfhs\", \"ppfs\", \"ppfs\", \"ppfs\", \"pressur drop microchannel\", \"pressur drop microchannel\", \"pressur side\", \"pressur side\", \"pretoria\", \"properti studi\", \"protrus\", \"protrus\", \"protrus\", \"protrus\", \"protrus\", \"psia\", \"psia\", \"psia\", \"pyramid\", \"pyramid\", \"pyramid fin\", \"pyramid pin fin\", \"pyrex substrat\", \"pyrex substrat\", \"qel\", \"qmax\", \"qmax\", \"qpcm\", \"razelo\", \"rectangular base\", \"recuper\", \"recuper\", \"red heat transfer\", \"red heat transfer\", \"redh experiment\", \"redh redh\", \"redh redh\", \"redh turbul\", \"redh turbul\", \"rept\", \"rept\", \"respons surfac\", \"respons surfac\", \"respons surfac\", \"retent\", \"retent height\", \"rng model\", \"rng model\", \"rotat machineri\", \"rotat machineri\", \"rotat number\", \"rotat number\", \"rotat number\", \"rotat pinfin\", \"rotat pinfin\", \"rotat pinfin heat sink\", \"rotat pinfin heat sink\", \"rotat trail\", \"rotat trail\", \"row 2\", \"rpm\", \"rpm\", \"rpm\", \"rt-35hc\", \"rt-44\", \"rt-54\", \"rtd array\", \"rtd2\", \"rtd2 rtd3\", \"rtd3\", \"rtd4\", \"rtd5\", \"rtd6\", \"rtd7\", \"rtd8\", \"rtds\", \"rtds\", \"rtds\", \"s. bureerat\", \"s/d geometri\", \"s/d geometri\", \"s/d s/d\", \"s/d s/d\", \"s/d s/d\", \"s/d s/d\", \"s/d s/d s/d\", \"s/d s/d s/d\", \"s/d=2\", \"s/d=2\", \"s/d=2\", \"s/d=2.5\", \"s/d=2.5\", \"s/d=3\", \"s/d=3\", \"sa\", \"sa\", \"sa c.\", \"sa c.\", \"sampl sampl\", \"shell\", \"shell\", \"shell\", \"shell\", \"side surfac\", \"side surfac\", \"sine\", \"sine\", \"sine\", \"single-phase heat transfer techniqu\", \"sinusoid fin\", \"sinusoid pin\", \"sinusoid pin\", \"sinusoid pin fin\", \"slender\", \"slice\", \"slice\", \"slug flow\", \"slug flow\", \"slug flow\", \"smooth region\", \"smooth wall\", \"smooth wall\", \"smooth wall\", \"smooth wall\", \"solid line\", \"solid line\", \"solid volum\", \"solid volum\", \"solid volum\", \"solut node\", \"sp-31\", \"spanwis space\", \"spanwis space\", \"spanwis space\", \"specimen experi\", \"specimen experi\", \"specimen heat\", \"specimen temperatur\", \"specimen temperatur\", \"splash plate\", \"splash plate\", \"spray cool\", \"spray cool\", \"spts\", \"squar base\", \"squar base\", \"squar inlin\", \"squar inlin\", \"squar inlin\", \"squar pin-fins\", \"squar pin-fins\", \"squar pin-fins\", \"squar pin-fins\", \"squar squar\", \"squar squar\", \"squar squar\", \"sst\", \"sst\", \"sst\", \"sst\", \"stagnat point heat transfer\", \"stagnat point heat transfer\", \"stagnat point heat transfer\", \"standard deviat temperatur\", \"standard deviat temperatur\", \"standard deviat temperatur field\", \"stanford univers\", \"stanford univers\", \"stanford univers\", \"station\", \"station\", \"station\", \"station\", \"station\", \"stationari\", \"stationari\", \"stationari\", \"straight circular\", \"straight circular\", \"structur microchannel\", \"structur microchannel\", \"subcool condit\", \"subcool condit\", \"substrat deposit\", \"surfac effici\", \"surfac effici\", \"surfac effici\", \"surrog model\", \"surrog model\", \"surrog model\", \"t.-m\", \"t.-m\", \"t1\", \"t1\", \"t1\", \"t1\", \"taguchi experiment design method\", \"taguchi experiment design method\", \"tces\", \"tces\", \"temperatur batteri\", \"temperatur plate\", \"temperatur sensor\", \"temperatur sensor\", \"test channel\", \"test channel\", \"test channel\", \"test chip\", \"test chip\", \"test piec\", \"test piec\", \"test section heater\", \"test section heater\", \"thermal perform factor\", \"thermal perform factor\", \"thermal perform factor\", \"thermal scienc confer\", \"thermal scienc confer\", \"thermal scienc confer journal\", \"thermal scienc confer journal\", \"thermal test\", \"thermal test\", \"three-dimensional channel\", \"tilt\", \"tilt\", \"true\", \"true\", \"true\", \"tube channel specimen\", \"tube specimen\", \"turbul region\", \"turbul region\", \"turbul region\", \"two-phase region\", \"type 1\", \"type 1\", \"u-shaped\", \"u-tube manomet\", \"unfin channel\", \"unfin channel\", \"valu interv\", \"valu interv\", \"vapor column\", \"vapor column\", \"vemuri\", \"vemuri\", \"vemuri\", \"vention\", \"vertic space\", \"volum constraint\", \"volumetr fraction\", \"volumetr fraction\", \"wang intern\", \"wang intern\", \"wang intern journal\", \"water side\", \"wedg duct\", \"wedg duct\", \"wetted-wall area\", \"width smooth region\", \"width space\", \"width space\", \"width space\", \"width space\", \"wire coil\", \"y.j\", \"y2\", \"y2\", \"z. wan\", \"z. wan\", \"z0\", \"z0\"]}, \"R\": 30, \"lambda.step\": 0.01, \"plot.opts\": {\"xlab\": \"PC1\", \"ylab\": \"PC2\"}, \"topic.order\": [1, 2, 3, 4, 5, 6, 7, 8, 9, 10]};\n",
       "\n",
       "function LDAvis_load_lib(url, callback){\n",
       "  var s = document.createElement('script');\n",
       "  s.src = url;\n",
       "  s.async = true;\n",
       "  s.onreadystatechange = s.onload = callback;\n",
       "  s.onerror = function(){console.warn(\"failed to load library \" + url);};\n",
       "  document.getElementsByTagName(\"head\")[0].appendChild(s);\n",
       "}\n",
       "\n",
       "if(typeof(LDAvis) !== \"undefined\"){\n",
       "   // already loaded: just create the visualization\n",
       "   !function(LDAvis){\n",
       "       new LDAvis(\"#\" + \"ldavis_el67321399334707941927380108016\", ldavis_el67321399334707941927380108016_data);\n",
       "   }(LDAvis);\n",
       "}else if(typeof define === \"function\" && define.amd){\n",
       "   // require.js is available: use it to load d3/LDAvis\n",
       "   require.config({paths: {d3: \"https://cdnjs.cloudflare.com/ajax/libs/d3/3.5.5/d3.min\"}});\n",
       "   require([\"d3\"], function(d3){\n",
       "      window.d3 = d3;\n",
       "      LDAvis_load_lib(\"https://cdn.rawgit.com/bmabey/pyLDAvis/files/ldavis.v1.0.0.js\", function(){\n",
       "        new LDAvis(\"#\" + \"ldavis_el67321399334707941927380108016\", ldavis_el67321399334707941927380108016_data);\n",
       "      });\n",
       "    });\n",
       "}else{\n",
       "    // require.js not available: dynamically load d3 & LDAvis\n",
       "    LDAvis_load_lib(\"https://cdnjs.cloudflare.com/ajax/libs/d3/3.5.5/d3.min.js\", function(){\n",
       "         LDAvis_load_lib(\"https://cdn.rawgit.com/bmabey/pyLDAvis/files/ldavis.v1.0.0.js\", function(){\n",
       "                 new LDAvis(\"#\" + \"ldavis_el67321399334707941927380108016\", ldavis_el67321399334707941927380108016_data);\n",
       "            })\n",
       "         });\n",
       "}\n",
       "</script>"
      ],
      "text/plain": [
       "PreparedData(topic_coordinates=               x          y  topics  cluster       Freq\n",
       "topic                                                  \n",
       "0      32.420952   8.115230       1        1  10.460753\n",
       "1       0.648955  71.707100       2        1   5.933764\n",
       "2      71.019684   9.971006       3        1  12.104087\n",
       "3       3.785981  33.185135       4        1   4.453716\n",
       "4     -42.666500  -9.222070       5        1  12.515435\n",
       "5      -3.621689 -43.526516       6        1  13.741124\n",
       "6      -3.632402  -4.171708       7        1   8.308768\n",
       "7     -36.584400  35.804413       8        1  12.527998\n",
       "8      44.391380  50.615383       9        1   9.328222\n",
       "9      40.235809 -31.591665      10        1  10.626133, topic_info=                Term        Freq       Total Category  logprob  loglift\n",
       "17534          panel  141.000000  141.000000  Default  30.0000  30.0000\n",
       "1587         batteri   89.000000   89.000000  Default  29.0000  29.0000\n",
       "4435             cpf  107.000000  107.000000  Default  28.0000  28.0000\n",
       "26357   vapor column   77.000000   77.000000  Default  27.0000  27.0000\n",
       "21652           rtds   81.000000   81.000000  Default  26.0000  26.0000\n",
       "...              ...         ...         ...      ...      ...      ...\n",
       "10                 -   31.480245   43.208949  Topic10  -5.7761   1.9252\n",
       "5653   discharg rate   12.648245   14.119248  Topic10  -6.6879   2.1318\n",
       "18196        pf-5060   13.433243   15.745265  Topic10  -6.6277   2.0830\n",
       "25962  turbul region   13.433425   15.753819  Topic10  -6.6277   2.0825\n",
       "17697         pareto   15.788686   36.810957  Topic10  -6.4661   1.3954\n",
       "\n",
       "[504 rows x 6 columns], token_table=       Topic      Freq    Term\n",
       "term                          \n",
       "10         2  0.023143       -\n",
       "10         3  0.231434       -\n",
       "10        10  0.717444       -\n",
       "94         9  0.043974      ^2\n",
       "94        10  0.923444      ^2\n",
       "...      ...       ...     ...\n",
       "27342      9  0.095951      y2\n",
       "27435      4  0.765260  z. wan\n",
       "27435      6  0.191315  z. wan\n",
       "27441      4  0.693259      z0\n",
       "27441      9  0.173315      z0\n",
       "\n",
       "[892 rows x 3 columns], R=30, lambda_step=0.01, plot_opts={'xlab': 'PC1', 'ylab': 'PC2'}, topic_order=[1, 2, 3, 4, 5, 6, 7, 8, 9, 10])"
      ]
     },
     "execution_count": 9,
     "metadata": {},
     "output_type": "execute_result"
    }
   ],
   "source": [
    "pyLDAvis.enable_notebook()\n",
    "panel = pyLDAvis.sklearn.prepare(lda_model, data_vectorized, bow_vector, mds='tsne', sort_topics=False)\n",
    "panel"
   ]
  },
  {
   "cell_type": "markdown",
   "metadata": {},
   "source": [
    "# t-SNE and bokeh Visualization<a id='tsne_bokeh'></a>\n",
    "\n",
    "We will now perform t-distributed stochasting neighbor embedding (t-SNE) on our vectorized heat exchanger articles from the previous step.  t-SNE is a non-linear means of reducing multiple dimensions to two or three dimensions for visualization.  After using t-SNE to project our vectorized SBIR documents into 2D, we will plot the documents and assign colors to them based on the previous LDA topic modeling cluster assigned.\n",
    "\n",
    "First, we need to determine to which categories LDA assigned each document."
   ]
  },
  {
   "cell_type": "code",
   "execution_count": 10,
   "metadata": {},
   "outputs": [],
   "source": [
    "top_cluster = []\n",
    "for n in range(lda_output.shape[0]):\n",
    "    categ = np.argwhere(lda_output[n,:] == np.amax(lda_output[n,:]))\n",
    "    top_cluster.append(str(categ[0][0]+1))"
   ]
  },
  {
   "cell_type": "markdown",
   "metadata": {},
   "source": [
    "Next, we will convert our vectorized heat exchanger data from a sparse matrix to a dense one and then perform t-SNE."
   ]
  },
  {
   "cell_type": "code",
   "execution_count": 11,
   "metadata": {},
   "outputs": [],
   "source": [
    "test = data_vectorized.todense()"
   ]
  },
  {
   "cell_type": "code",
   "execution_count": 12,
   "metadata": {},
   "outputs": [],
   "source": [
    "tsne = TSNE(random_state=2017, perplexity=30, n_iter=5000)#, early_exaggeration=120)\n",
    "embedding = tsne.fit_transform(test)"
   ]
  },
  {
   "cell_type": "markdown",
   "metadata": {},
   "source": [
    "Let's see how many unique categories were assigned to our documents during LDA topic modeling.  We originally told the algorithm to cluster the heat exchanger documents into 10 topics.  However, some of these topics were fairly small per our visualization above.  Some topics may not be assigned to any document as the primary category."
   ]
  },
  {
   "cell_type": "code",
   "execution_count": 13,
   "metadata": {},
   "outputs": [
    {
     "name": "stdout",
     "output_type": "stream",
     "text": [
      "There are 10 unique categories in our dataset.\n"
     ]
    }
   ],
   "source": [
    "unique_cats = list(set(top_cluster))\n",
    "unique_cats_count = len(unique_cats)\n",
    "print('There are ' + str(unique_cats_count) + ' unique categories in our dataset.')"
   ]
  },
  {
   "cell_type": "markdown",
   "metadata": {},
   "source": [
    "Only 10 of our categories were assigned as primary topics for our heat exchanger document collection.  A second iteration of LDA could be performed with only 6 categories in the future.  We will skip this step for now though and use our unique category count for building appropriate bokeh color palette. "
   ]
  },
  {
   "cell_type": "code",
   "execution_count": 14,
   "metadata": {},
   "outputs": [],
   "source": [
    "viridis_spec = viridis(unique_cats_count)\n",
    "magma_spec = magma(unique_cats_count)\n",
    "turbo_spec = linear_palette(Turbo256, unique_cats_count)"
   ]
  },
  {
   "cell_type": "markdown",
   "metadata": {},
   "source": [
    "Next, let's visualize our t-SNE reduced dimensions and also use the original LDA cluster assignment for a color palette.  We will also use a hover functionality to show the index of the heat exchanger document, the document's title, and also the category # assigned to the document by the LDA clustering algorithm above."
   ]
  },
  {
   "cell_type": "code",
   "execution_count": 15,
   "metadata": {},
   "outputs": [],
   "source": [
    "source = ColumnDataSource(data=dict(\n",
    "    x=embedding[:,0],\n",
    "    y=embedding[:,1],\n",
    "    top_cluster=top_cluster\n",
    "))\n",
    "\n",
    "TOOLTIPS = [\n",
    "    (\"index\", '$index'),\n",
    "    (\"Title\", '@desc'),\n",
    "    ('Category', '@top_cluster')\n",
    "]"
   ]
  },
  {
   "cell_type": "code",
   "execution_count": 16,
   "metadata": {},
   "outputs": [
    {
     "name": "stderr",
     "output_type": "stream",
     "text": [
      "/opt/conda/lib/python3.7/site-packages/bokeh/models/mappers.py:147: UserWarning: Palette length does not match number of factors. ['8', '9', '10', '2', '7', '1', '8', '9', '3', '3', '8', '9', '1', '5', '5', '3', '6', '9', '7', '3', '9', '7', '3', '3', '9', '5', '5', '3', '8', '10', '7', '9', '5', '7', '7', '2', '10', '8', '3', '4', '8', '8', '1', '1', '10', '4', '1', '4', '10', '10', '4', '5', '5', '1', '4', '10', '5', '6', '10', '5', '9', '3', '6', '6', '2', '5', '7', '6', '3', '1', '6', '8', '2', '6', '6', '2', '2', '5', '7', '1', '1', '2', '8', '5', '7', '9', '7', '7', '5', '3', '7', '1', '10', '6', '9', '4', '10', '8', '2', '8'] will be assigned to `nan_color` gray\n",
      "  warnings.warn(\"Palette length does not match number of factors. %s will be assigned to `nan_color` %s\" % (extra_factors, self.nan_color))\n"
     ]
    },
    {
     "data": {
      "text/html": [
       "\n",
       "\n",
       "\n",
       "\n",
       "\n",
       "\n",
       "  <div class=\"bk-root\" id=\"80f9aa27-c881-498f-8a6b-0ee761943d75\" data-root-id=\"1004\"></div>\n"
      ]
     },
     "metadata": {},
     "output_type": "display_data"
    },
    {
     "data": {
      "application/javascript": [
       "(function(root) {\n",
       "  function embed_document(root) {\n",
       "    \n",
       "  var docs_json = {\"64603fe0-73ac-4a82-82dd-ae700005b012\":{\"roots\":{\"references\":[{\"attributes\":{\"below\":[{\"id\":\"1015\"}],\"center\":[{\"id\":\"1018\"},{\"id\":\"1022\"}],\"left\":[{\"id\":\"1019\"}],\"plot_height\":800,\"plot_width\":800,\"renderers\":[{\"id\":\"1043\"}],\"title\":{\"id\":\"1005\"},\"toolbar\":{\"id\":\"1031\"},\"x_range\":{\"id\":\"1007\"},\"x_scale\":{\"id\":\"1011\"},\"y_range\":{\"id\":\"1009\"},\"y_scale\":{\"id\":\"1013\"}},\"id\":\"1004\",\"subtype\":\"Figure\",\"type\":\"Plot\"},{\"attributes\":{},\"id\":\"1020\",\"type\":\"BasicTicker\"},{\"attributes\":{\"data_source\":{\"id\":\"1003\"},\"glyph\":{\"id\":\"1041\"},\"hover_glyph\":null,\"muted_glyph\":null,\"nonselection_glyph\":{\"id\":\"1042\"},\"selection_glyph\":null,\"view\":{\"id\":\"1044\"}},\"id\":\"1043\",\"type\":\"GlyphRenderer\"},{\"attributes\":{},\"id\":\"1052\",\"type\":\"UnionRenderers\"},{\"attributes\":{\"fill_alpha\":{\"value\":0.1},\"fill_color\":{\"field\":\"top_cluster\",\"transform\":{\"id\":\"1039\"}},\"line_alpha\":{\"value\":0.1},\"line_color\":{\"value\":\"#1f77b4\"},\"size\":{\"units\":\"screen\",\"value\":10},\"x\":{\"field\":\"x\"},\"y\":{\"field\":\"y\"}},\"id\":\"1042\",\"type\":\"Circle\"},{\"attributes\":{\"data\":{\"top_cluster\":[\"3\",\"8\",\"8\",\"6\",\"1\",\"6\",\"7\",\"3\",\"2\",\"6\",\"8\",\"9\",\"10\",\"2\",\"7\",\"1\",\"8\",\"9\",\"3\",\"3\",\"8\",\"9\",\"1\",\"5\",\"5\",\"3\",\"6\",\"9\",\"7\",\"3\",\"9\",\"7\",\"3\",\"3\",\"9\",\"5\",\"5\",\"3\",\"8\",\"10\",\"7\",\"9\",\"5\",\"7\",\"7\",\"2\",\"10\",\"8\",\"3\",\"4\",\"8\",\"8\",\"1\",\"1\",\"10\",\"4\",\"1\",\"4\",\"10\",\"10\",\"4\",\"5\",\"5\",\"1\",\"4\",\"10\",\"5\",\"6\",\"10\",\"5\",\"9\",\"3\",\"6\",\"6\",\"2\",\"5\",\"7\",\"6\",\"3\",\"1\",\"6\",\"8\",\"2\",\"6\",\"6\",\"2\",\"2\",\"5\",\"7\",\"1\",\"1\",\"2\",\"8\",\"5\",\"7\",\"9\",\"7\",\"7\",\"5\",\"3\",\"7\",\"1\",\"10\",\"6\",\"9\",\"4\",\"10\",\"8\",\"2\",\"8\"],\"x\":{\"__ndarray__\":\"svsUQu+jH0I/mRNCLSVcwkJz6kGk669AX1wWQjAzr0E5IWRCyS45whrr2kFfJUPAWJKBwitdSkG5SJ1Alg+NQkopzUFezhRCXVHDwXSKHkJQerNA41f1wCk/o0Lw2p1BmzuAQEVJp0HaSYtBMvJ6QpybBsC1bbNC+bw7Qd2wv0E3yK1BZG8nwnKnBsJzW4tBiwSDQOdGsEB75p9CAr4DQiKBTkJREJNB8+Q/w3fIQkKkmABCP3QTwfNdPUHd45rAgr/sQRkwwcF94GRC6Jo/QpHEdkFGLrfB0BBWQpHDCEGE7cvB93zfwfvweUF8OK+/dqFvQkjt20HV45LBxl9oQZDGbMElQD5C6EN+Qd8rMsGkUYtA6ZsPQZ/viEBGzWXBjWEJQl3fRMFdu4JCf+CuwQsR10Auek5C0PlQQfggq8Cw2trBMHQewjlPkEINqxPBJaELwgEsNMF9bKNCYrBAQoRa3UFj4pFCP6OawU8QF0LgKSFCZ/okwkBD+kEH7l/AURTZwbykUELgK59BKrIQQg2qeUJpYdJBtU+FwmpcPMIu+U1CvQh2wXFfREI+iy7BtDqrQA5nnkE=\",\"dtype\":\"float32\",\"shape\":[110]},\"y\":{\"__ndarray__\":\"7/2cwYEGWcL8AzvCpdu9wUW4W0JXJHZChcciQmZ0jME5sXrBx6OzQa83pz/JmWbBthaaQL/uesGp1aPBkHo1wWngCUIXoPnBdHstwlAAbkEk+W/AK2XdQb1G9kCCNgLC+9OVQF6maMKhkHXACWqaQeR2nMCLuTHB1tervGGYwMDjOztBg0k4wsHDdcHNxpvCkTO8QST8O8EvJtzBuYGKwpfFjMKlnCzBj9xrRMGvcMEUGh/BFaWtwX3K/sBJmm1AkHxawR23kMATl07CVJNRwNKvnEFUEg9CSzKFQoeSIMLK/d9BiGTjwZAtPkLqhejBqQJpv/kMFMLDEWVC2R71Qe4uAMJ+1IVC3Uy6wf8Zm8JiDk3CdVjrwZ72GUKOU31Bo/unwDXIpsJFhw9CSo6BQuOnVUFdOixCkY/3QKenIsKghDpBpW0hQlLeLsJoWylCInU1QbSr98BUOd5BNpDXwfn6x8FXa9NAXJmFwcmrNMEpE3ZA1axOwAvXGEF8OmJBcstxwpjOIkFkSzjCzyHRQZzg5cEfrqVBc84eQWdO08GCViHCOBFbQA1xykE8hVnCjIGBwrvKUUA=\",\"dtype\":\"float32\",\"shape\":[110]}},\"selected\":{\"id\":\"1051\"},\"selection_policy\":{\"id\":\"1052\"}},\"id\":\"1003\",\"type\":\"ColumnDataSource\"},{\"attributes\":{\"callback\":null,\"tooltips\":[[\"index\",\"$index\"],[\"Title\",\"@desc\"],[\"Category\",\"@top_cluster\"]]},\"id\":\"1030\",\"type\":\"HoverTool\"},{\"attributes\":{\"bottom_units\":\"screen\",\"fill_alpha\":0.5,\"fill_color\":\"lightgrey\",\"left_units\":\"screen\",\"level\":\"overlay\",\"line_alpha\":1.0,\"line_color\":\"black\",\"line_dash\":[4,4],\"line_width\":2,\"render_mode\":\"css\",\"right_units\":\"screen\",\"top_units\":\"screen\"},\"id\":\"1029\",\"type\":\"BoxAnnotation\"},{\"attributes\":{},\"id\":\"1009\",\"type\":\"DataRange1d\"},{\"attributes\":{\"axis\":{\"id\":\"1019\"},\"dimension\":1,\"ticker\":null},\"id\":\"1022\",\"type\":\"Grid\"},{\"attributes\":{\"factors\":[\"3\",\"8\",\"8\",\"6\",\"1\",\"6\",\"7\",\"3\",\"2\",\"6\",\"8\",\"9\",\"10\",\"2\",\"7\",\"1\",\"8\",\"9\",\"3\",\"3\",\"8\",\"9\",\"1\",\"5\",\"5\",\"3\",\"6\",\"9\",\"7\",\"3\",\"9\",\"7\",\"3\",\"3\",\"9\",\"5\",\"5\",\"3\",\"8\",\"10\",\"7\",\"9\",\"5\",\"7\",\"7\",\"2\",\"10\",\"8\",\"3\",\"4\",\"8\",\"8\",\"1\",\"1\",\"10\",\"4\",\"1\",\"4\",\"10\",\"10\",\"4\",\"5\",\"5\",\"1\",\"4\",\"10\",\"5\",\"6\",\"10\",\"5\",\"9\",\"3\",\"6\",\"6\",\"2\",\"5\",\"7\",\"6\",\"3\",\"1\",\"6\",\"8\",\"2\",\"6\",\"6\",\"2\",\"2\",\"5\",\"7\",\"1\",\"1\",\"2\",\"8\",\"5\",\"7\",\"9\",\"7\",\"7\",\"5\",\"3\",\"7\",\"1\",\"10\",\"6\",\"9\",\"4\",\"10\",\"8\",\"2\",\"8\"],\"palette\":[\"#000003\",\"#170F3C\",\"#430F75\",\"#711F81\",\"#9E2E7E\",\"#CB3E71\",\"#F0605D\",\"#FC9366\",\"#FEC78B\",\"#FBFCBF\"]},\"id\":\"1039\",\"type\":\"CategoricalColorMapper\"},{\"attributes\":{\"formatter\":{\"id\":\"1049\"},\"ticker\":{\"id\":\"1020\"}},\"id\":\"1019\",\"type\":\"LinearAxis\"},{\"attributes\":{},\"id\":\"1028\",\"type\":\"HelpTool\"},{\"attributes\":{\"active_drag\":\"auto\",\"active_inspect\":\"auto\",\"active_multi\":null,\"active_scroll\":\"auto\",\"active_tap\":\"auto\",\"tools\":[{\"id\":\"1023\"},{\"id\":\"1024\"},{\"id\":\"1025\"},{\"id\":\"1026\"},{\"id\":\"1027\"},{\"id\":\"1028\"},{\"id\":\"1030\"}]},\"id\":\"1031\",\"type\":\"Toolbar\"},{\"attributes\":{},\"id\":\"1023\",\"type\":\"PanTool\"},{\"attributes\":{},\"id\":\"1011\",\"type\":\"LinearScale\"},{\"attributes\":{\"fill_alpha\":{\"value\":0.75},\"fill_color\":{\"field\":\"top_cluster\",\"transform\":{\"id\":\"1039\"}},\"line_color\":{\"value\":\"#1f77b4\"},\"size\":{\"units\":\"screen\",\"value\":10},\"x\":{\"field\":\"x\"},\"y\":{\"field\":\"y\"}},\"id\":\"1041\",\"type\":\"Circle\"},{\"attributes\":{},\"id\":\"1013\",\"type\":\"LinearScale\"},{\"attributes\":{},\"id\":\"1007\",\"type\":\"DataRange1d\"},{\"attributes\":{},\"id\":\"1049\",\"type\":\"BasicTickFormatter\"},{\"attributes\":{},\"id\":\"1027\",\"type\":\"ResetTool\"},{\"attributes\":{\"formatter\":{\"id\":\"1047\"},\"ticker\":{\"id\":\"1016\"}},\"id\":\"1015\",\"type\":\"LinearAxis\"},{\"attributes\":{\"source\":{\"id\":\"1003\"}},\"id\":\"1044\",\"type\":\"CDSView\"},{\"attributes\":{\"text\":\"t-SNE Projection of Vectorized Heat Exchangers\"},\"id\":\"1005\",\"type\":\"Title\"},{\"attributes\":{\"overlay\":{\"id\":\"1029\"}},\"id\":\"1025\",\"type\":\"BoxZoomTool\"},{\"attributes\":{},\"id\":\"1051\",\"type\":\"Selection\"},{\"attributes\":{\"axis\":{\"id\":\"1015\"},\"ticker\":null},\"id\":\"1018\",\"type\":\"Grid\"},{\"attributes\":{},\"id\":\"1026\",\"type\":\"SaveTool\"},{\"attributes\":{},\"id\":\"1047\",\"type\":\"BasicTickFormatter\"},{\"attributes\":{},\"id\":\"1016\",\"type\":\"BasicTicker\"},{\"attributes\":{},\"id\":\"1024\",\"type\":\"WheelZoomTool\"}],\"root_ids\":[\"1004\"]},\"title\":\"Bokeh Application\",\"version\":\"2.0.1\"}};\n",
       "  var render_items = [{\"docid\":\"64603fe0-73ac-4a82-82dd-ae700005b012\",\"root_ids\":[\"1004\"],\"roots\":{\"1004\":\"80f9aa27-c881-498f-8a6b-0ee761943d75\"}}];\n",
       "  root.Bokeh.embed.embed_items_notebook(docs_json, render_items);\n",
       "\n",
       "  }\n",
       "  if (root.Bokeh !== undefined) {\n",
       "    embed_document(root);\n",
       "  } else {\n",
       "    var attempts = 0;\n",
       "    var timer = setInterval(function(root) {\n",
       "      if (root.Bokeh !== undefined) {\n",
       "        clearInterval(timer);\n",
       "        embed_document(root);\n",
       "      } else {\n",
       "        attempts++;\n",
       "        if (attempts > 100) {\n",
       "          clearInterval(timer);\n",
       "          console.log(\"Bokeh: ERROR: Unable to run BokehJS code because BokehJS library is missing\");\n",
       "        }\n",
       "      }\n",
       "    }, 10, root)\n",
       "  }\n",
       "})(window);"
      ],
      "application/vnd.bokehjs_exec.v0+json": ""
     },
     "metadata": {
      "application/vnd.bokehjs_exec.v0+json": {
       "id": "1004"
      }
     },
     "output_type": "display_data"
    }
   ],
   "source": [
    "p = figure(title=\"t-SNE Projection of Vectorized Heat Exchangers\", tooltips=TOOLTIPS, plot_height=800, plot_width=800)\n",
    "p.circle('x', 'y', size=10, source=source, fill_alpha=0.75, fill_color=factor_cmap('top_cluster', palette=magma_spec, factors=top_cluster))\n",
    "show(p)"
   ]
  },
  {
   "cell_type": "markdown",
   "metadata": {},
   "source": [
    "## Summary\n",
    "\n",
    "This is a nice vizualization of the original vectorized heat exchanger documents.  It is possible to hover and see where similar documents are clustering together.  The t-SNE algorithm has projected the vectorized documents into a 2D space where similar documents should be grouped together.  For example, at roughly coordinates (7, 3), a user can hover their mouse over a darker blue grouping of heat exchanger documents.  They also all were assigned to category 4 by the original LDA clustering algorithm.  \n",
    "\n",
    "This plot has several interactive features.  Users can scroll in and out as well as draw boxes for zooming in.  The number of colors is a bit much.  It would be desirable to rerun this notebook in the future with less color categories (and less LDA clusters).\n",
    "\n",
    "This has been an initial exploration of leveraging scikit-learn for analysis as well as applying t-SNE to heat exchanger vectorized document and visualizing results using bokeh in Python.  For any questions on this notebook, please reach out to Charles Liles (charles.a.liles@nasa.gov) or Karsten Look (karsten.look@nasa.gov)."
   ]
  }
 ],
 "metadata": {
  "environment": {
   "name": "tf-gpu.1-15.m56",
   "type": "gcloud",
   "uri": "gcr.io/deeplearning-platform-release/tf-gpu.1-15:m56"
  },
  "kernelspec": {
   "display_name": "Python 3",
   "language": "python",
   "name": "python3"
  },
  "language_info": {
   "codemirror_mode": {
    "name": "ipython",
    "version": 3
   },
   "file_extension": ".py",
   "mimetype": "text/x-python",
   "name": "python",
   "nbconvert_exporter": "python",
   "pygments_lexer": "ipython3",
   "version": "3.7.6"
  }
 },
 "nbformat": 4,
 "nbformat_minor": 4
}
