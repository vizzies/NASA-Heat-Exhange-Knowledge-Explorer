{
 "cells": [
  {
   "cell_type": "code",
   "execution_count": 89,
   "metadata": {},
   "outputs": [],
   "source": [
    "# Filter deprecation warning\n",
    "import warnings\n",
    "warnings.filterwarnings('ignore')\n",
    "\n",
    "import xml.etree.ElementTree as ET\n",
    "from google.cloud import storage"
   ]
  },
  {
   "cell_type": "code",
   "execution_count": 45,
   "metadata": {},
   "outputs": [],
   "source": [
    "BUCKET_ID = \"grc-ml-hackathon\"\n",
    "NOUN_TYPE = \"./Metadata/Facets/Facet/_word/noun\""
   ]
  },
  {
   "cell_type": "code",
   "execution_count": 68,
   "metadata": {},
   "outputs": [],
   "source": [
    "client = storage.Client()\n",
    "bucket = client.get_bucket(BUCKET_ID)"
   ]
  },
  {
   "cell_type": "code",
   "execution_count": 105,
   "metadata": {},
   "outputs": [],
   "source": [
    "def get_nouns_from_file(fname):\n",
    "    \n",
    "    out_nouns = []\n",
    "\n",
    "    fp = f\"challenge-ab/processed/{fname}\"\n",
    "    blob = bucket.get_blob(fp)\n",
    "    data = blob.download_as_string().decode(\"utf-8\")\n",
    "    root = ET.fromstring(data)\n",
    "    \n",
    "    for item in root.findall(NOUN_TYPE):\n",
    "        for child in item.getchildren():\n",
    "            noun = child.text\n",
    "            noun_type = child.tag\n",
    "            out_nouns.append(noun)\n",
    "    \n",
    "    return out_nouns\n"
   ]
  },
  {
   "cell_type": "code",
   "execution_count": null,
   "metadata": {},
   "outputs": [],
   "source": [
    "def get_data_from_file(fname):\n",
    "\n",
    "    NOUN_TYPE = \"./Metadata/Facets/Facet\"\n",
    "    \n",
    "    types = []\n",
    "\n",
    "    fp = f\"challenge-ab/processed/{fname}\"\n",
    "    blob = bucket.get_blob(fp)\n",
    "    data = blob.download_as_string().decode(\"utf-8\")\n",
    "    root = ET.fromstring(data)\n",
    "    \n",
    "    for item in root.findall(NOUN_TYPE):\n",
    "        for child in item.getchildren():\n",
    "            noun = child.text\n",
    "            noun_type = child.tag\n",
    "            types.append(noun_type)\n",
    "    types = list(set(types)\n",
    "    types.sort()\n",
    "    print(types)"
   ]
  },
  {
   "cell_type": "code",
   "execution_count": 97,
   "metadata": {},
   "outputs": [],
   "source": [
    "# Get list of XML files to parse\n",
    "fnames = []\n",
    "all_files = []\n",
    "for blob in bucket.list_blobs():\n",
    "    start = blob.name.startswith(\"challenge-ab/processed/\")\n",
    "    end = blob.name.endswith(\".xml\")\n",
    "    if start and end:\n",
    "        fname = blob.name.lstrip(\"challenge-ab/processed/\")\n",
    "        all_files.append(get_nouns_from_file(fname))\n"
   ]
  },
  {
   "cell_type": "code",
   "execution_count": 100,
   "metadata": {},
   "outputs": [],
   "source": [
    "out = []\n",
    "for f in all_files:\n",
    "    for t,v in f:\n",
    "        out.append(t)\n",
    "out = list(set(out))\n",
    "out.sort()"
   ]
  },
  {
   "cell_type": "code",
   "execution_count": 104,
   "metadata": {},
   "outputs": [
    {
     "name": "stdout",
     "output_type": "stream",
     "text": [
      "['general', 'others']\n"
     ]
    }
   ],
   "source": [
    "# print(len(out))\n",
    "# print(len(all_files))\n",
    "# print(all_files[0])\n",
    "print(out)"
   ]
  }
 ],
 "metadata": {
  "environment": {
   "name": "tf-gpu.1-15.m56",
   "type": "gcloud",
   "uri": "gcr.io/deeplearning-platform-release/tf-gpu.1-15:m56"
  },
  "kernelspec": {
   "display_name": "Python 3",
   "language": "python",
   "name": "python3"
  },
  "language_info": {
   "codemirror_mode": {
    "name": "ipython",
    "version": 3
   },
   "file_extension": ".py",
   "mimetype": "text/x-python",
   "name": "python",
   "nbconvert_exporter": "python",
   "pygments_lexer": "ipython3",
   "version": "3.7.8"
  }
 },
 "nbformat": 4,
 "nbformat_minor": 4
}
